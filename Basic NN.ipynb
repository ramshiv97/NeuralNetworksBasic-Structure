{
 "cells": [
  {
   "cell_type": "markdown",
   "metadata": {
    "id": "bUR1cOcL04w1"
   },
   "source": []
  },
  {
   "cell_type": "markdown",
   "metadata": {
    "id": "yjJerMzd04w4"
   },
   "source": [
    "# NN with Keras"
   ]
  },
  {
   "cell_type": "markdown",
   "metadata": {
    "id": "bufH8UqX04w7"
   },
   "source": [
    "### Import libraries"
   ]
  },
  {
   "cell_type": "markdown",
   "metadata": {
    "id": "XfDEiCFnAtrN"
   },
   "source": [
    "This notebook was run and tested on Keras version 3.3.3 and Tensorflow 2.16.1"
   ]
  },
  {
   "cell_type": "code",
   "execution_count": 27,
   "metadata": {
    "colab": {
     "base_uri": "https://localhost:8080/"
    },
    "executionInfo": {
     "elapsed": 3837,
     "status": "ok",
     "timestamp": 1678497081036,
     "user": {
      "displayName": "Muru Raj",
      "userId": "16263509272652930332"
     },
     "user_tz": -780
    },
    "id": "IedwPaYcAVhT",
    "outputId": "42a38695-d466-442a-9434-6a217e6677c5"
   },
   "outputs": [
    {
     "name": "stdout",
     "output_type": "stream",
     "text": [
      "Keras version:  3.3.3\n",
      "Tensorflow version:  2.16.1\n"
     ]
    }
   ],
   "source": [
    "#!pip install tensorflow\n",
    "# Check keras and tensorflow versions\n",
    "\n",
    "import tensorflow as tf\n",
    "from tensorflow import keras\n",
    "\n",
    "print(\"Keras version: \", keras.__version__)\n",
    "print(\"Tensorflow version: \", tf.__version__)"
   ]
  },
  {
   "cell_type": "code",
   "execution_count": 2,
   "metadata": {
    "id": "FOkRtOAG04w-"
   },
   "outputs": [],
   "source": [
    "## Import libraries\n",
    "import numpy as np\n",
    "\n",
    "%matplotlib inline\n",
    "import matplotlib.pyplot as plt\n",
    "\n",
    "from sklearn.datasets import load_diabetes\n",
    "from sklearn.model_selection import train_test_split\n",
    "from sklearn.metrics import r2_score\n",
    "\n",
    "# import keras\n",
    "from tensorflow.keras.models import Sequential\n",
    "from tensorflow.keras.layers import Dense\n",
    "from tensorflow.keras import Input"
   ]
  },
  {
   "cell_type": "markdown",
   "metadata": {
    "id": "CoFPfFvl04xG"
   },
   "source": [
    "### Load data"
   ]
  },
  {
   "cell_type": "code",
   "execution_count": 3,
   "metadata": {
    "id": "vcojoYHs04xI"
   },
   "outputs": [],
   "source": [
    "# The diabetes dataset\n",
    "diabetes = load_diabetes()"
   ]
  },
  {
   "cell_type": "code",
   "execution_count": 4,
   "metadata": {
    "colab": {
     "base_uri": "https://localhost:8080/"
    },
    "executionInfo": {
     "elapsed": 15,
     "status": "ok",
     "timestamp": 1678497082375,
     "user": {
      "displayName": "Muru Raj",
      "userId": "16263509272652930332"
     },
     "user_tz": -780
    },
    "id": "1hZFA93Z04xN",
    "outputId": "1e4204a6-9acf-4889-e523-bf324238c17f"
   },
   "outputs": [
    {
     "name": "stdout",
     "output_type": "stream",
     "text": [
      ".. _diabetes_dataset:\n",
      "\n",
      "Diabetes dataset\n",
      "----------------\n",
      "\n",
      "Ten baseline variables, age, sex, body mass index, average blood\n",
      "pressure, and six blood serum measurements were obtained for each of n =\n",
      "442 diabetes patients, as well as the response of interest, a\n",
      "quantitative measure of disease progression one year after baseline.\n",
      "\n",
      "**Data Set Characteristics:**\n",
      "\n",
      ":Number of Instances: 442\n",
      "\n",
      ":Number of Attributes: First 10 columns are numeric predictive values\n",
      "\n",
      ":Target: Column 11 is a quantitative measure of disease progression one year after baseline\n",
      "\n",
      ":Attribute Information:\n",
      "    - age     age in years\n",
      "    - sex\n",
      "    - bmi     body mass index\n",
      "    - bp      average blood pressure\n",
      "    - s1      tc, total serum cholesterol\n",
      "    - s2      ldl, low-density lipoproteins\n",
      "    - s3      hdl, high-density lipoproteins\n",
      "    - s4      tch, total cholesterol / HDL\n",
      "    - s5      ltg, possibly log of serum triglycerides level\n",
      "    - s6      glu, blood sugar level\n",
      "\n",
      "Note: Each of these 10 feature variables have been mean centered and scaled by the standard deviation times the square root of `n_samples` (i.e. the sum of squares of each column totals 1).\n",
      "\n",
      "Source URL:\n",
      "https://www4.stat.ncsu.edu/~boos/var.select/diabetes.html\n",
      "\n",
      "For more information see:\n",
      "Bradley Efron, Trevor Hastie, Iain Johnstone and Robert Tibshirani (2004) \"Least Angle Regression,\" Annals of Statistics (with discussion), 407-499.\n",
      "(https://web.stanford.edu/~hastie/Papers/LARS/LeastAngle_2002.pdf)\n",
      "\n"
     ]
    }
   ],
   "source": [
    "print(diabetes.DESCR)"
   ]
  },
  {
   "cell_type": "markdown",
   "metadata": {
    "id": "40txet2G04xS"
   },
   "source": [
    "### Prepare input data"
   ]
  },
  {
   "cell_type": "code",
   "execution_count": 5,
   "metadata": {
    "colab": {
     "base_uri": "https://localhost:8080/"
    },
    "executionInfo": {
     "elapsed": 14,
     "status": "ok",
     "timestamp": 1678497082376,
     "user": {
      "displayName": "Muru Raj",
      "userId": "16263509272652930332"
     },
     "user_tz": -780
    },
    "id": "15yGMkfv04xT",
    "outputId": "a7099f2b-ecc8-45d4-d151-a0776a58fb36"
   },
   "outputs": [
    {
     "name": "stdout",
     "output_type": "stream",
     "text": [
      "X is a  <class 'numpy.ndarray'>\n",
      "X has 442 rows and 10 columns\n",
      "First 10 values in y:  [151.  75. 141. 206. 135.  97. 138.  63. 110. 310.]\n"
     ]
    }
   ],
   "source": [
    "# input\n",
    "X = diabetes.data\n",
    "\n",
    "# print the type of X to check that it is a numpy array\n",
    "print(\"X is a \", type(X))\n",
    "\n",
    "# Print shape to check rows and columns\n",
    "print(\"X has {} rows and {} columns\".format(X.shape[0], X.shape[1]))\n",
    "\n",
    "# Save number of columns as n_cols\n",
    "n_cols = X.shape[1]\n",
    "\n",
    "# output\n",
    "y = diabetes.target\n",
    "\n",
    "print(\"First 10 values in y: \", y[:10])"
   ]
  },
  {
   "cell_type": "code",
   "execution_count": 6,
   "metadata": {
    "colab": {
     "base_uri": "https://localhost:8080/"
    },
    "executionInfo": {
     "elapsed": 11,
     "status": "ok",
     "timestamp": 1678497082376,
     "user": {
      "displayName": "Muru Raj",
      "userId": "16263509272652930332"
     },
     "user_tz": -780
    },
    "id": "PT1X1Gaq4q86",
    "outputId": "ca4d77d9-7749-4d88-d2ff-0babde1c2143"
   },
   "outputs": [
    {
     "data": {
      "text/plain": [
       "442"
      ]
     },
     "execution_count": 6,
     "metadata": {},
     "output_type": "execute_result"
    }
   ],
   "source": [
    "# How many observations are in y?\n",
    "len(y)"
   ]
  },
  {
   "cell_type": "code",
   "execution_count": 7,
   "metadata": {
    "colab": {
     "base_uri": "https://localhost:8080/"
    },
    "executionInfo": {
     "elapsed": 9,
     "status": "ok",
     "timestamp": 1678497082376,
     "user": {
      "displayName": "Muru Raj",
      "userId": "16263509272652930332"
     },
     "user_tz": -780
    },
    "id": "1yj44ez4zYI5",
    "outputId": "b4dbb5f7-ee74-4d49-f583-24f3e499e6dd"
   },
   "outputs": [
    {
     "data": {
      "text/plain": [
       "(442,)"
      ]
     },
     "execution_count": 7,
     "metadata": {},
     "output_type": "execute_result"
    }
   ],
   "source": [
    "y.shape"
   ]
  },
  {
   "cell_type": "markdown",
   "metadata": {
    "id": "q0qcJhZy04xX"
   },
   "source": [
    "### Split the data (training/test)"
   ]
  },
  {
   "cell_type": "code",
   "execution_count": 8,
   "metadata": {
    "id": "BY0sEw2I04xY"
   },
   "outputs": [],
   "source": [
    "X_train, X_test, y_train, y_test = train_test_split(\n",
    "    X, y,\n",
    "    test_size = 0.3,\n",
    "    random_state = 65)"
   ]
  },
  {
   "cell_type": "markdown",
   "metadata": {
    "id": "oaA96jIQ04xa"
   },
   "source": [
    "### Create the model's architecture"
   ]
  },
  {
   "cell_type": "code",
   "execution_count": 9,
   "metadata": {
    "id": "-1LtQXeZ04xb"
   },
   "outputs": [],
   "source": [
    "# Set up the model architecture\n",
    "model = Sequential()"
   ]
  },
  {
   "cell_type": "code",
   "execution_count": 10,
   "metadata": {
    "id": "iRlvthaJ04xd"
   },
   "outputs": [],
   "source": [
    "model.add(Input(shape=(n_cols,)))\n",
    "# Add the first hidden layer\n",
    "model.add(Dense(15, activation = 'relu'))\n",
    "# Add the second hidden layer\n",
    "model.add(Dense(5, activation = 'relu'))\n",
    "# Add the output layer\n",
    "model.add(Dense(1, activation = 'linear'))"
   ]
  },
  {
   "cell_type": "code",
   "execution_count": 11,
   "metadata": {
    "colab": {
     "base_uri": "https://localhost:8080/"
    },
    "executionInfo": {
     "elapsed": 28,
     "status": "ok",
     "timestamp": 1678497086149,
     "user": {
      "displayName": "Muru Raj",
      "userId": "16263509272652930332"
     },
     "user_tz": -780
    },
    "id": "IHTo0iIO04xg",
    "outputId": "b940f713-039a-44ee-a805-3d411a338706"
   },
   "outputs": [
    {
     "data": {
      "text/html": [
       "<pre style=\"white-space:pre;overflow-x:auto;line-height:normal;font-family:Menlo,'DejaVu Sans Mono',consolas,'Courier New',monospace\"><span style=\"font-weight: bold\">Model: \"sequential\"</span>\n",
       "</pre>\n"
      ],
      "text/plain": [
       "\u001b[1mModel: \"sequential\"\u001b[0m\n"
      ]
     },
     "metadata": {},
     "output_type": "display_data"
    },
    {
     "data": {
      "text/html": [
       "<pre style=\"white-space:pre;overflow-x:auto;line-height:normal;font-family:Menlo,'DejaVu Sans Mono',consolas,'Courier New',monospace\">┏━━━━━━━━━━━━━━━━━━━━━━━━━━━━━━━━━━━━━━┳━━━━━━━━━━━━━━━━━━━━━━━━━━━━━┳━━━━━━━━━━━━━━━━━┓\n",
       "┃<span style=\"font-weight: bold\"> Layer (type)                         </span>┃<span style=\"font-weight: bold\"> Output Shape                </span>┃<span style=\"font-weight: bold\">         Param # </span>┃\n",
       "┡━━━━━━━━━━━━━━━━━━━━━━━━━━━━━━━━━━━━━━╇━━━━━━━━━━━━━━━━━━━━━━━━━━━━━╇━━━━━━━━━━━━━━━━━┩\n",
       "│ dense (<span style=\"color: #0087ff; text-decoration-color: #0087ff\">Dense</span>)                        │ (<span style=\"color: #00d7ff; text-decoration-color: #00d7ff\">None</span>, <span style=\"color: #00af00; text-decoration-color: #00af00\">15</span>)                  │             <span style=\"color: #00af00; text-decoration-color: #00af00\">165</span> │\n",
       "├──────────────────────────────────────┼─────────────────────────────┼─────────────────┤\n",
       "│ dense_1 (<span style=\"color: #0087ff; text-decoration-color: #0087ff\">Dense</span>)                      │ (<span style=\"color: #00d7ff; text-decoration-color: #00d7ff\">None</span>, <span style=\"color: #00af00; text-decoration-color: #00af00\">5</span>)                   │              <span style=\"color: #00af00; text-decoration-color: #00af00\">80</span> │\n",
       "├──────────────────────────────────────┼─────────────────────────────┼─────────────────┤\n",
       "│ dense_2 (<span style=\"color: #0087ff; text-decoration-color: #0087ff\">Dense</span>)                      │ (<span style=\"color: #00d7ff; text-decoration-color: #00d7ff\">None</span>, <span style=\"color: #00af00; text-decoration-color: #00af00\">1</span>)                   │               <span style=\"color: #00af00; text-decoration-color: #00af00\">6</span> │\n",
       "└──────────────────────────────────────┴─────────────────────────────┴─────────────────┘\n",
       "</pre>\n"
      ],
      "text/plain": [
       "┏━━━━━━━━━━━━━━━━━━━━━━━━━━━━━━━━━━━━━━┳━━━━━━━━━━━━━━━━━━━━━━━━━━━━━┳━━━━━━━━━━━━━━━━━┓\n",
       "┃\u001b[1m \u001b[0m\u001b[1mLayer (type)                        \u001b[0m\u001b[1m \u001b[0m┃\u001b[1m \u001b[0m\u001b[1mOutput Shape               \u001b[0m\u001b[1m \u001b[0m┃\u001b[1m \u001b[0m\u001b[1m        Param #\u001b[0m\u001b[1m \u001b[0m┃\n",
       "┡━━━━━━━━━━━━━━━━━━━━━━━━━━━━━━━━━━━━━━╇━━━━━━━━━━━━━━━━━━━━━━━━━━━━━╇━━━━━━━━━━━━━━━━━┩\n",
       "│ dense (\u001b[38;5;33mDense\u001b[0m)                        │ (\u001b[38;5;45mNone\u001b[0m, \u001b[38;5;34m15\u001b[0m)                  │             \u001b[38;5;34m165\u001b[0m │\n",
       "├──────────────────────────────────────┼─────────────────────────────┼─────────────────┤\n",
       "│ dense_1 (\u001b[38;5;33mDense\u001b[0m)                      │ (\u001b[38;5;45mNone\u001b[0m, \u001b[38;5;34m5\u001b[0m)                   │              \u001b[38;5;34m80\u001b[0m │\n",
       "├──────────────────────────────────────┼─────────────────────────────┼─────────────────┤\n",
       "│ dense_2 (\u001b[38;5;33mDense\u001b[0m)                      │ (\u001b[38;5;45mNone\u001b[0m, \u001b[38;5;34m1\u001b[0m)                   │               \u001b[38;5;34m6\u001b[0m │\n",
       "└──────────────────────────────────────┴─────────────────────────────┴─────────────────┘\n"
      ]
     },
     "metadata": {},
     "output_type": "display_data"
    },
    {
     "data": {
      "text/html": [
       "<pre style=\"white-space:pre;overflow-x:auto;line-height:normal;font-family:Menlo,'DejaVu Sans Mono',consolas,'Courier New',monospace\"><span style=\"font-weight: bold\"> Total params: </span><span style=\"color: #00af00; text-decoration-color: #00af00\">251</span> (1004.00 B)\n",
       "</pre>\n"
      ],
      "text/plain": [
       "\u001b[1m Total params: \u001b[0m\u001b[38;5;34m251\u001b[0m (1004.00 B)\n"
      ]
     },
     "metadata": {},
     "output_type": "display_data"
    },
    {
     "data": {
      "text/html": [
       "<pre style=\"white-space:pre;overflow-x:auto;line-height:normal;font-family:Menlo,'DejaVu Sans Mono',consolas,'Courier New',monospace\"><span style=\"font-weight: bold\"> Trainable params: </span><span style=\"color: #00af00; text-decoration-color: #00af00\">251</span> (1004.00 B)\n",
       "</pre>\n"
      ],
      "text/plain": [
       "\u001b[1m Trainable params: \u001b[0m\u001b[38;5;34m251\u001b[0m (1004.00 B)\n"
      ]
     },
     "metadata": {},
     "output_type": "display_data"
    },
    {
     "data": {
      "text/html": [
       "<pre style=\"white-space:pre;overflow-x:auto;line-height:normal;font-family:Menlo,'DejaVu Sans Mono',consolas,'Courier New',monospace\"><span style=\"font-weight: bold\"> Non-trainable params: </span><span style=\"color: #00af00; text-decoration-color: #00af00\">0</span> (0.00 B)\n",
       "</pre>\n"
      ],
      "text/plain": [
       "\u001b[1m Non-trainable params: \u001b[0m\u001b[38;5;34m0\u001b[0m (0.00 B)\n"
      ]
     },
     "metadata": {},
     "output_type": "display_data"
    },
    {
     "name": "stdout",
     "output_type": "stream",
     "text": [
      "None\n"
     ]
    }
   ],
   "source": [
    "print(model.summary())"
   ]
  },
  {
   "cell_type": "markdown",
   "metadata": {
    "id": "X95DtUh_04xi"
   },
   "source": [
    "### Compile the model"
   ]
  },
  {
   "cell_type": "code",
   "execution_count": 12,
   "metadata": {
    "id": "krTtIfWA04xj"
   },
   "outputs": [],
   "source": [
    "# Compile the model\n",
    "model.compile(\n",
    "    optimizer = 'adam',\n",
    "    loss = 'mse',\n",
    "    metrics = ['mse'])"
   ]
  },
  {
   "cell_type": "markdown",
   "metadata": {
    "id": "v7Q1B7ov04xm"
   },
   "source": [
    "### Fit the training data"
   ]
  },
  {
   "cell_type": "code",
   "execution_count": 13,
   "metadata": {
    "id": "tH5mMDLT_VbN"
   },
   "outputs": [],
   "source": [
    "# shuffle training data\n",
    "from sklearn.utils import shuffle\n",
    "X_train2, y_train2 = shuffle(X_train, y_train, random_state=42)"
   ]
  },
  {
   "cell_type": "code",
   "execution_count": 14,
   "metadata": {
    "colab": {
     "base_uri": "https://localhost:8080/"
    },
    "executionInfo": {
     "elapsed": 202409,
     "status": "ok",
     "timestamp": 1678497495254,
     "user": {
      "displayName": "Muru Raj",
      "userId": "16263509272652930332"
     },
     "user_tz": -780
    },
    "id": "idAp5HXR04xn",
    "outputId": "066331a7-7e42-4904-a1c1-acfb25eca9c7"
   },
   "outputs": [
    {
     "name": "stdout",
     "output_type": "stream",
     "text": [
      "Epoch 1/300\n",
      "\u001b[1m24/24\u001b[0m \u001b[32m━━━━━━━━━━━━━━━━━━━━\u001b[0m\u001b[37m\u001b[0m \u001b[1m3s\u001b[0m 22ms/step - loss: 29403.8555 - mse: 29403.8555 - val_loss: 28057.6465 - val_mse: 28057.6465\n",
      "Epoch 2/300\n",
      "\u001b[1m24/24\u001b[0m \u001b[32m━━━━━━━━━━━━━━━━━━━━\u001b[0m\u001b[37m\u001b[0m \u001b[1m0s\u001b[0m 5ms/step - loss: 28142.0938 - mse: 28142.0938 - val_loss: 27993.7148 - val_mse: 27993.7148\n",
      "Epoch 3/300\n",
      "\u001b[1m24/24\u001b[0m \u001b[32m━━━━━━━━━━━━━━━━━━━━\u001b[0m\u001b[37m\u001b[0m \u001b[1m0s\u001b[0m 5ms/step - loss: 29328.7324 - mse: 29328.7324 - val_loss: 27897.9844 - val_mse: 27897.9844\n",
      "Epoch 4/300\n",
      "\u001b[1m24/24\u001b[0m \u001b[32m━━━━━━━━━━━━━━━━━━━━\u001b[0m\u001b[37m\u001b[0m \u001b[1m0s\u001b[0m 6ms/step - loss: 29547.3984 - mse: 29547.3984 - val_loss: 27768.5137 - val_mse: 27768.5137\n",
      "Epoch 5/300\n",
      "\u001b[1m24/24\u001b[0m \u001b[32m━━━━━━━━━━━━━━━━━━━━\u001b[0m\u001b[37m\u001b[0m \u001b[1m0s\u001b[0m 6ms/step - loss: 28890.5879 - mse: 28890.5879 - val_loss: 27596.7812 - val_mse: 27596.7812\n",
      "Epoch 6/300\n",
      "\u001b[1m24/24\u001b[0m \u001b[32m━━━━━━━━━━━━━━━━━━━━\u001b[0m\u001b[37m\u001b[0m \u001b[1m0s\u001b[0m 7ms/step - loss: 27752.6406 - mse: 27752.6406 - val_loss: 27382.0000 - val_mse: 27382.0000\n",
      "Epoch 7/300\n",
      "\u001b[1m24/24\u001b[0m \u001b[32m━━━━━━━━━━━━━━━━━━━━\u001b[0m\u001b[37m\u001b[0m \u001b[1m0s\u001b[0m 8ms/step - loss: 26865.0352 - mse: 26865.0352 - val_loss: 27105.8613 - val_mse: 27105.8613\n",
      "Epoch 8/300\n",
      "\u001b[1m24/24\u001b[0m \u001b[32m━━━━━━━━━━━━━━━━━━━━\u001b[0m\u001b[37m\u001b[0m \u001b[1m0s\u001b[0m 6ms/step - loss: 26997.0020 - mse: 26997.0020 - val_loss: 26768.1582 - val_mse: 26768.1582\n",
      "Epoch 9/300\n",
      "\u001b[1m24/24\u001b[0m \u001b[32m━━━━━━━━━━━━━━━━━━━━\u001b[0m\u001b[37m\u001b[0m \u001b[1m0s\u001b[0m 6ms/step - loss: 23556.7656 - mse: 23556.7656 - val_loss: 26352.6875 - val_mse: 26352.6875\n",
      "Epoch 10/300\n",
      "\u001b[1m24/24\u001b[0m \u001b[32m━━━━━━━━━━━━━━━━━━━━\u001b[0m\u001b[37m\u001b[0m \u001b[1m0s\u001b[0m 7ms/step - loss: 25862.0820 - mse: 25862.0820 - val_loss: 25846.3164 - val_mse: 25846.3164\n",
      "Epoch 11/300\n",
      "\u001b[1m24/24\u001b[0m \u001b[32m━━━━━━━━━━━━━━━━━━━━\u001b[0m\u001b[37m\u001b[0m \u001b[1m0s\u001b[0m 6ms/step - loss: 25543.6602 - mse: 25543.6582 - val_loss: 25234.4863 - val_mse: 25234.4863\n",
      "Epoch 12/300\n",
      "\u001b[1m24/24\u001b[0m \u001b[32m━━━━━━━━━━━━━━━━━━━━\u001b[0m\u001b[37m\u001b[0m \u001b[1m0s\u001b[0m 5ms/step - loss: 25184.0547 - mse: 25184.0547 - val_loss: 24556.2812 - val_mse: 24556.2812\n",
      "Epoch 13/300\n",
      "\u001b[1m24/24\u001b[0m \u001b[32m━━━━━━━━━━━━━━━━━━━━\u001b[0m\u001b[37m\u001b[0m \u001b[1m0s\u001b[0m 6ms/step - loss: 24683.0234 - mse: 24683.0234 - val_loss: 23757.8398 - val_mse: 23757.8398\n",
      "Epoch 14/300\n",
      "\u001b[1m24/24\u001b[0m \u001b[32m━━━━━━━━━━━━━━━━━━━━\u001b[0m\u001b[37m\u001b[0m \u001b[1m0s\u001b[0m 7ms/step - loss: 24274.4980 - mse: 24274.4980 - val_loss: 22853.8125 - val_mse: 22853.8125\n",
      "Epoch 15/300\n",
      "\u001b[1m24/24\u001b[0m \u001b[32m━━━━━━━━━━━━━━━━━━━━\u001b[0m\u001b[37m\u001b[0m \u001b[1m0s\u001b[0m 7ms/step - loss: 22518.1289 - mse: 22518.1289 - val_loss: 21846.5664 - val_mse: 21846.5645\n",
      "Epoch 16/300\n",
      "\u001b[1m24/24\u001b[0m \u001b[32m━━━━━━━━━━━━━━━━━━━━\u001b[0m\u001b[37m\u001b[0m \u001b[1m0s\u001b[0m 7ms/step - loss: 20674.2578 - mse: 20674.2559 - val_loss: 20776.8984 - val_mse: 20776.8984\n",
      "Epoch 17/300\n",
      "\u001b[1m24/24\u001b[0m \u001b[32m━━━━━━━━━━━━━━━━━━━━\u001b[0m\u001b[37m\u001b[0m \u001b[1m0s\u001b[0m 6ms/step - loss: 20446.1426 - mse: 20446.1426 - val_loss: 19636.4062 - val_mse: 19636.4062\n",
      "Epoch 18/300\n",
      "\u001b[1m24/24\u001b[0m \u001b[32m━━━━━━━━━━━━━━━━━━━━\u001b[0m\u001b[37m\u001b[0m \u001b[1m0s\u001b[0m 7ms/step - loss: 20898.1738 - mse: 20898.1738 - val_loss: 18421.6738 - val_mse: 18421.6738\n",
      "Epoch 19/300\n",
      "\u001b[1m24/24\u001b[0m \u001b[32m━━━━━━━━━━━━━━━━━━━━\u001b[0m\u001b[37m\u001b[0m \u001b[1m0s\u001b[0m 7ms/step - loss: 19774.0000 - mse: 19774.0000 - val_loss: 17159.6660 - val_mse: 17159.6660\n",
      "Epoch 20/300\n",
      "\u001b[1m24/24\u001b[0m \u001b[32m━━━━━━━━━━━━━━━━━━━━\u001b[0m\u001b[37m\u001b[0m \u001b[1m0s\u001b[0m 7ms/step - loss: 21683.2812 - mse: 21683.2812 - val_loss: 15909.6924 - val_mse: 15909.6924\n",
      "Epoch 21/300\n",
      "\u001b[1m24/24\u001b[0m \u001b[32m━━━━━━━━━━━━━━━━━━━━\u001b[0m\u001b[37m\u001b[0m \u001b[1m0s\u001b[0m 7ms/step - loss: 15166.3867 - mse: 15166.3857 - val_loss: 14641.1572 - val_mse: 14641.1572\n",
      "Epoch 22/300\n",
      "\u001b[1m24/24\u001b[0m \u001b[32m━━━━━━━━━━━━━━━━━━━━\u001b[0m\u001b[37m\u001b[0m \u001b[1m0s\u001b[0m 6ms/step - loss: 15813.2998 - mse: 15813.2998 - val_loss: 13398.0605 - val_mse: 13398.0596\n",
      "Epoch 23/300\n",
      "\u001b[1m24/24\u001b[0m \u001b[32m━━━━━━━━━━━━━━━━━━━━\u001b[0m\u001b[37m\u001b[0m \u001b[1m0s\u001b[0m 7ms/step - loss: 13523.4336 - mse: 13523.4336 - val_loss: 12181.4609 - val_mse: 12181.4609\n",
      "Epoch 24/300\n",
      "\u001b[1m24/24\u001b[0m \u001b[32m━━━━━━━━━━━━━━━━━━━━\u001b[0m\u001b[37m\u001b[0m \u001b[1m0s\u001b[0m 7ms/step - loss: 12173.8457 - mse: 12173.8457 - val_loss: 11018.9785 - val_mse: 11018.9785\n",
      "Epoch 25/300\n",
      "\u001b[1m24/24\u001b[0m \u001b[32m━━━━━━━━━━━━━━━━━━━━\u001b[0m\u001b[37m\u001b[0m \u001b[1m0s\u001b[0m 6ms/step - loss: 10701.2041 - mse: 10701.2041 - val_loss: 9944.5703 - val_mse: 9944.5703\n",
      "Epoch 26/300\n",
      "\u001b[1m24/24\u001b[0m \u001b[32m━━━━━━━━━━━━━━━━━━━━\u001b[0m\u001b[37m\u001b[0m \u001b[1m0s\u001b[0m 7ms/step - loss: 9565.5713 - mse: 9565.5703 - val_loss: 8945.9111 - val_mse: 8945.9111\n",
      "Epoch 27/300\n",
      "\u001b[1m24/24\u001b[0m \u001b[32m━━━━━━━━━━━━━━━━━━━━\u001b[0m\u001b[37m\u001b[0m \u001b[1m0s\u001b[0m 7ms/step - loss: 9344.7607 - mse: 9344.7607 - val_loss: 8005.7734 - val_mse: 8005.7739\n",
      "Epoch 28/300\n",
      "\u001b[1m24/24\u001b[0m \u001b[32m━━━━━━━━━━━━━━━━━━━━\u001b[0m\u001b[37m\u001b[0m \u001b[1m0s\u001b[0m 6ms/step - loss: 8764.9092 - mse: 8764.9092 - val_loss: 7274.3604 - val_mse: 7274.3604\n",
      "Epoch 29/300\n",
      "\u001b[1m24/24\u001b[0m \u001b[32m━━━━━━━━━━━━━━━━━━━━\u001b[0m\u001b[37m\u001b[0m \u001b[1m0s\u001b[0m 9ms/step - loss: 7382.4502 - mse: 7382.4502 - val_loss: 6599.1274 - val_mse: 6599.1274\n",
      "Epoch 30/300\n",
      "\u001b[1m24/24\u001b[0m \u001b[32m━━━━━━━━━━━━━━━━━━━━\u001b[0m\u001b[37m\u001b[0m \u001b[1m0s\u001b[0m 7ms/step - loss: 6918.9453 - mse: 6918.9453 - val_loss: 6044.7646 - val_mse: 6044.7646\n",
      "Epoch 31/300\n",
      "\u001b[1m24/24\u001b[0m \u001b[32m━━━━━━━━━━━━━━━━━━━━\u001b[0m\u001b[37m\u001b[0m \u001b[1m0s\u001b[0m 7ms/step - loss: 7022.9219 - mse: 7022.9219 - val_loss: 5580.0000 - val_mse: 5580.0000\n",
      "Epoch 32/300\n",
      "\u001b[1m24/24\u001b[0m \u001b[32m━━━━━━━━━━━━━━━━━━━━\u001b[0m\u001b[37m\u001b[0m \u001b[1m0s\u001b[0m 6ms/step - loss: 5605.9858 - mse: 5605.9858 - val_loss: 5208.8965 - val_mse: 5208.8965\n",
      "Epoch 33/300\n",
      "\u001b[1m24/24\u001b[0m \u001b[32m━━━━━━━━━━━━━━━━━━━━\u001b[0m\u001b[37m\u001b[0m \u001b[1m0s\u001b[0m 5ms/step - loss: 5400.9131 - mse: 5400.9131 - val_loss: 4903.8784 - val_mse: 4903.8789\n",
      "Epoch 34/300\n",
      "\u001b[1m24/24\u001b[0m \u001b[32m━━━━━━━━━━━━━━━━━━━━\u001b[0m\u001b[37m\u001b[0m \u001b[1m0s\u001b[0m 6ms/step - loss: 5150.6069 - mse: 5150.6069 - val_loss: 4674.7236 - val_mse: 4674.7236\n",
      "Epoch 35/300\n",
      "\u001b[1m24/24\u001b[0m \u001b[32m━━━━━━━━━━━━━━━━━━━━\u001b[0m\u001b[37m\u001b[0m \u001b[1m0s\u001b[0m 7ms/step - loss: 4744.6011 - mse: 4744.6011 - val_loss: 4460.8359 - val_mse: 4460.8359\n",
      "Epoch 36/300\n",
      "\u001b[1m24/24\u001b[0m \u001b[32m━━━━━━━━━━━━━━━━━━━━\u001b[0m\u001b[37m\u001b[0m \u001b[1m0s\u001b[0m 6ms/step - loss: 4466.7295 - mse: 4466.7295 - val_loss: 4264.1904 - val_mse: 4264.1904\n",
      "Epoch 37/300\n",
      "\u001b[1m24/24\u001b[0m \u001b[32m━━━━━━━━━━━━━━━━━━━━\u001b[0m\u001b[37m\u001b[0m \u001b[1m0s\u001b[0m 7ms/step - loss: 5070.8428 - mse: 5070.8428 - val_loss: 4147.9106 - val_mse: 4147.9106\n",
      "Epoch 38/300\n",
      "\u001b[1m24/24\u001b[0m \u001b[32m━━━━━━━━━━━━━━━━━━━━\u001b[0m\u001b[37m\u001b[0m \u001b[1m0s\u001b[0m 7ms/step - loss: 4428.4795 - mse: 4428.4795 - val_loss: 4082.4258 - val_mse: 4082.4258\n",
      "Epoch 39/300\n",
      "\u001b[1m24/24\u001b[0m \u001b[32m━━━━━━━━━━━━━━━━━━━━\u001b[0m\u001b[37m\u001b[0m \u001b[1m0s\u001b[0m 7ms/step - loss: 5153.4873 - mse: 5153.4873 - val_loss: 4008.9006 - val_mse: 4008.9006\n",
      "Epoch 40/300\n",
      "\u001b[1m24/24\u001b[0m \u001b[32m━━━━━━━━━━━━━━━━━━━━\u001b[0m\u001b[37m\u001b[0m \u001b[1m0s\u001b[0m 7ms/step - loss: 4071.0625 - mse: 4071.0625 - val_loss: 3962.7288 - val_mse: 3962.7288\n",
      "Epoch 41/300\n",
      "\u001b[1m24/24\u001b[0m \u001b[32m━━━━━━━━━━━━━━━━━━━━\u001b[0m\u001b[37m\u001b[0m \u001b[1m0s\u001b[0m 6ms/step - loss: 4359.0205 - mse: 4359.0205 - val_loss: 3911.5237 - val_mse: 3911.5237\n",
      "Epoch 42/300\n",
      "\u001b[1m24/24\u001b[0m \u001b[32m━━━━━━━━━━━━━━━━━━━━\u001b[0m\u001b[37m\u001b[0m \u001b[1m0s\u001b[0m 7ms/step - loss: 4647.5654 - mse: 4647.5654 - val_loss: 3873.3662 - val_mse: 3873.3662\n",
      "Epoch 43/300\n",
      "\u001b[1m24/24\u001b[0m \u001b[32m━━━━━━━━━━━━━━━━━━━━\u001b[0m\u001b[37m\u001b[0m \u001b[1m0s\u001b[0m 6ms/step - loss: 4218.4712 - mse: 4218.4712 - val_loss: 3840.6157 - val_mse: 3840.6157\n",
      "Epoch 44/300\n",
      "\u001b[1m24/24\u001b[0m \u001b[32m━━━━━━━━━━━━━━━━━━━━\u001b[0m\u001b[37m\u001b[0m \u001b[1m0s\u001b[0m 7ms/step - loss: 4322.3467 - mse: 4322.3472 - val_loss: 3808.7874 - val_mse: 3808.7874\n",
      "Epoch 45/300\n",
      "\u001b[1m24/24\u001b[0m \u001b[32m━━━━━━━━━━━━━━━━━━━━\u001b[0m\u001b[37m\u001b[0m \u001b[1m0s\u001b[0m 7ms/step - loss: 4117.5498 - mse: 4117.5498 - val_loss: 3763.3943 - val_mse: 3763.3943\n",
      "Epoch 46/300\n",
      "\u001b[1m24/24\u001b[0m \u001b[32m━━━━━━━━━━━━━━━━━━━━\u001b[0m\u001b[37m\u001b[0m \u001b[1m0s\u001b[0m 4ms/step - loss: 4194.1509 - mse: 4194.1509 - val_loss: 3734.1589 - val_mse: 3734.1589\n",
      "Epoch 47/300\n",
      "\u001b[1m24/24\u001b[0m \u001b[32m━━━━━━━━━━━━━━━━━━━━\u001b[0m\u001b[37m\u001b[0m \u001b[1m0s\u001b[0m 6ms/step - loss: 4235.2925 - mse: 4235.2925 - val_loss: 3699.4243 - val_mse: 3699.4243\n",
      "Epoch 48/300\n",
      "\u001b[1m24/24\u001b[0m \u001b[32m━━━━━━━━━━━━━━━━━━━━\u001b[0m\u001b[37m\u001b[0m \u001b[1m0s\u001b[0m 7ms/step - loss: 4348.6265 - mse: 4348.6265 - val_loss: 3673.0793 - val_mse: 3673.0793\n",
      "Epoch 49/300\n",
      "\u001b[1m24/24\u001b[0m \u001b[32m━━━━━━━━━━━━━━━━━━━━\u001b[0m\u001b[37m\u001b[0m \u001b[1m0s\u001b[0m 6ms/step - loss: 3667.4856 - mse: 3667.4856 - val_loss: 3651.8105 - val_mse: 3651.8105\n",
      "Epoch 50/300\n",
      "\u001b[1m24/24\u001b[0m \u001b[32m━━━━━━━━━━━━━━━━━━━━\u001b[0m\u001b[37m\u001b[0m \u001b[1m0s\u001b[0m 7ms/step - loss: 3932.0159 - mse: 3932.0159 - val_loss: 3628.1199 - val_mse: 3628.1199\n",
      "Epoch 51/300\n",
      "\u001b[1m24/24\u001b[0m \u001b[32m━━━━━━━━━━━━━━━━━━━━\u001b[0m\u001b[37m\u001b[0m \u001b[1m0s\u001b[0m 5ms/step - loss: 3993.9253 - mse: 3993.9253 - val_loss: 3603.1919 - val_mse: 3603.1919\n",
      "Epoch 52/300\n",
      "\u001b[1m24/24\u001b[0m \u001b[32m━━━━━━━━━━━━━━━━━━━━\u001b[0m\u001b[37m\u001b[0m \u001b[1m0s\u001b[0m 7ms/step - loss: 4185.1274 - mse: 4185.1274 - val_loss: 3584.9575 - val_mse: 3584.9575\n",
      "Epoch 53/300\n",
      "\u001b[1m24/24\u001b[0m \u001b[32m━━━━━━━━━━━━━━━━━━━━\u001b[0m\u001b[37m\u001b[0m \u001b[1m0s\u001b[0m 5ms/step - loss: 3950.4521 - mse: 3950.4521 - val_loss: 3554.2056 - val_mse: 3554.2056\n",
      "Epoch 54/300\n",
      "\u001b[1m24/24\u001b[0m \u001b[32m━━━━━━━━━━━━━━━━━━━━\u001b[0m\u001b[37m\u001b[0m \u001b[1m0s\u001b[0m 5ms/step - loss: 3840.6494 - mse: 3840.6494 - val_loss: 3529.6682 - val_mse: 3529.6682\n",
      "Epoch 55/300\n",
      "\u001b[1m24/24\u001b[0m \u001b[32m━━━━━━━━━━━━━━━━━━━━\u001b[0m\u001b[37m\u001b[0m \u001b[1m0s\u001b[0m 6ms/step - loss: 4311.3682 - mse: 4311.3682 - val_loss: 3502.9695 - val_mse: 3502.9695\n",
      "Epoch 56/300\n",
      "\u001b[1m24/24\u001b[0m \u001b[32m━━━━━━━━━━━━━━━━━━━━\u001b[0m\u001b[37m\u001b[0m \u001b[1m0s\u001b[0m 6ms/step - loss: 3465.1963 - mse: 3465.1960 - val_loss: 3480.7156 - val_mse: 3480.7156\n",
      "Epoch 57/300\n",
      "\u001b[1m24/24\u001b[0m \u001b[32m━━━━━━━━━━━━━━━━━━━━\u001b[0m\u001b[37m\u001b[0m \u001b[1m0s\u001b[0m 6ms/step - loss: 3975.3638 - mse: 3975.3638 - val_loss: 3459.1277 - val_mse: 3459.1277\n",
      "Epoch 58/300\n",
      "\u001b[1m24/24\u001b[0m \u001b[32m━━━━━━━━━━━━━━━━━━━━\u001b[0m\u001b[37m\u001b[0m \u001b[1m0s\u001b[0m 5ms/step - loss: 3975.4607 - mse: 3975.4607 - val_loss: 3442.1936 - val_mse: 3442.1936\n",
      "Epoch 59/300\n",
      "\u001b[1m24/24\u001b[0m \u001b[32m━━━━━━━━━━━━━━━━━━━━\u001b[0m\u001b[37m\u001b[0m \u001b[1m0s\u001b[0m 7ms/step - loss: 4444.2026 - mse: 4444.2026 - val_loss: 3422.3970 - val_mse: 3422.3970\n",
      "Epoch 60/300\n",
      "\u001b[1m24/24\u001b[0m \u001b[32m━━━━━━━━━━━━━━━━━━━━\u001b[0m\u001b[37m\u001b[0m \u001b[1m0s\u001b[0m 7ms/step - loss: 3982.7048 - mse: 3982.7048 - val_loss: 3406.5061 - val_mse: 3406.5061\n",
      "Epoch 61/300\n",
      "\u001b[1m24/24\u001b[0m \u001b[32m━━━━━━━━━━━━━━━━━━━━\u001b[0m\u001b[37m\u001b[0m \u001b[1m0s\u001b[0m 11ms/step - loss: 3555.6353 - mse: 3555.6353 - val_loss: 3390.9392 - val_mse: 3390.9392\n",
      "Epoch 62/300\n",
      "\u001b[1m24/24\u001b[0m \u001b[32m━━━━━━━━━━━━━━━━━━━━\u001b[0m\u001b[37m\u001b[0m \u001b[1m0s\u001b[0m 6ms/step - loss: 3742.2300 - mse: 3742.2300 - val_loss: 3377.1418 - val_mse: 3377.1418\n",
      "Epoch 63/300\n",
      "\u001b[1m24/24\u001b[0m \u001b[32m━━━━━━━━━━━━━━━━━━━━\u001b[0m\u001b[37m\u001b[0m \u001b[1m0s\u001b[0m 4ms/step - loss: 4087.1890 - mse: 4087.1887 - val_loss: 3356.2876 - val_mse: 3356.2876\n",
      "Epoch 64/300\n",
      "\u001b[1m24/24\u001b[0m \u001b[32m━━━━━━━━━━━━━━━━━━━━\u001b[0m\u001b[37m\u001b[0m \u001b[1m0s\u001b[0m 5ms/step - loss: 3645.9114 - mse: 3645.9114 - val_loss: 3336.3733 - val_mse: 3336.3733\n",
      "Epoch 65/300\n",
      "\u001b[1m24/24\u001b[0m \u001b[32m━━━━━━━━━━━━━━━━━━━━\u001b[0m\u001b[37m\u001b[0m \u001b[1m0s\u001b[0m 9ms/step - loss: 3662.6470 - mse: 3662.6470 - val_loss: 3321.3262 - val_mse: 3321.3262\n",
      "Epoch 66/300\n",
      "\u001b[1m24/24\u001b[0m \u001b[32m━━━━━━━━━━━━━━━━━━━━\u001b[0m\u001b[37m\u001b[0m \u001b[1m0s\u001b[0m 7ms/step - loss: 3576.8743 - mse: 3576.8743 - val_loss: 3303.7393 - val_mse: 3303.7393\n",
      "Epoch 67/300\n",
      "\u001b[1m24/24\u001b[0m \u001b[32m━━━━━━━━━━━━━━━━━━━━\u001b[0m\u001b[37m\u001b[0m \u001b[1m0s\u001b[0m 7ms/step - loss: 3847.4492 - mse: 3847.4492 - val_loss: 3289.9871 - val_mse: 3289.9871\n",
      "Epoch 68/300\n",
      "\u001b[1m24/24\u001b[0m \u001b[32m━━━━━━━━━━━━━━━━━━━━\u001b[0m\u001b[37m\u001b[0m \u001b[1m0s\u001b[0m 5ms/step - loss: 3415.7322 - mse: 3415.7324 - val_loss: 3276.0193 - val_mse: 3276.0193\n",
      "Epoch 69/300\n",
      "\u001b[1m24/24\u001b[0m \u001b[32m━━━━━━━━━━━━━━━━━━━━\u001b[0m\u001b[37m\u001b[0m \u001b[1m0s\u001b[0m 6ms/step - loss: 3573.6338 - mse: 3573.6338 - val_loss: 3263.2864 - val_mse: 3263.2866\n",
      "Epoch 70/300\n",
      "\u001b[1m24/24\u001b[0m \u001b[32m━━━━━━━━━━━━━━━━━━━━\u001b[0m\u001b[37m\u001b[0m \u001b[1m0s\u001b[0m 7ms/step - loss: 3611.8950 - mse: 3611.8950 - val_loss: 3250.6567 - val_mse: 3250.6567\n",
      "Epoch 71/300\n",
      "\u001b[1m24/24\u001b[0m \u001b[32m━━━━━━━━━━━━━━━━━━━━\u001b[0m\u001b[37m\u001b[0m \u001b[1m0s\u001b[0m 4ms/step - loss: 3496.8362 - mse: 3496.8362 - val_loss: 3237.5913 - val_mse: 3237.5913\n",
      "Epoch 72/300\n",
      "\u001b[1m24/24\u001b[0m \u001b[32m━━━━━━━━━━━━━━━━━━━━\u001b[0m\u001b[37m\u001b[0m \u001b[1m0s\u001b[0m 5ms/step - loss: 3416.2241 - mse: 3416.2241 - val_loss: 3222.0759 - val_mse: 3222.0759\n",
      "Epoch 73/300\n",
      "\u001b[1m24/24\u001b[0m \u001b[32m━━━━━━━━━━━━━━━━━━━━\u001b[0m\u001b[37m\u001b[0m \u001b[1m0s\u001b[0m 6ms/step - loss: 3636.9736 - mse: 3636.9736 - val_loss: 3207.4973 - val_mse: 3207.4973\n",
      "Epoch 74/300\n",
      "\u001b[1m24/24\u001b[0m \u001b[32m━━━━━━━━━━━━━━━━━━━━\u001b[0m\u001b[37m\u001b[0m \u001b[1m0s\u001b[0m 7ms/step - loss: 3377.8271 - mse: 3377.8271 - val_loss: 3197.2046 - val_mse: 3197.2046\n",
      "Epoch 75/300\n",
      "\u001b[1m24/24\u001b[0m \u001b[32m━━━━━━━━━━━━━━━━━━━━\u001b[0m\u001b[37m\u001b[0m \u001b[1m0s\u001b[0m 5ms/step - loss: 3460.4343 - mse: 3460.4343 - val_loss: 3187.4414 - val_mse: 3187.4414\n",
      "Epoch 76/300\n",
      "\u001b[1m24/24\u001b[0m \u001b[32m━━━━━━━━━━━━━━━━━━━━\u001b[0m\u001b[37m\u001b[0m \u001b[1m0s\u001b[0m 5ms/step - loss: 3356.4197 - mse: 3356.4197 - val_loss: 3175.0977 - val_mse: 3175.0977\n",
      "Epoch 77/300\n",
      "\u001b[1m24/24\u001b[0m \u001b[32m━━━━━━━━━━━━━━━━━━━━\u001b[0m\u001b[37m\u001b[0m \u001b[1m0s\u001b[0m 7ms/step - loss: 3679.5703 - mse: 3679.5703 - val_loss: 3163.9414 - val_mse: 3163.9414\n",
      "Epoch 78/300\n",
      "\u001b[1m24/24\u001b[0m \u001b[32m━━━━━━━━━━━━━━━━━━━━\u001b[0m\u001b[37m\u001b[0m \u001b[1m0s\u001b[0m 7ms/step - loss: 3252.7488 - mse: 3252.7488 - val_loss: 3157.9583 - val_mse: 3157.9583\n",
      "Epoch 79/300\n",
      "\u001b[1m24/24\u001b[0m \u001b[32m━━━━━━━━━━━━━━━━━━━━\u001b[0m\u001b[37m\u001b[0m \u001b[1m0s\u001b[0m 4ms/step - loss: 3427.4001 - mse: 3427.4001 - val_loss: 3150.5598 - val_mse: 3150.5598\n",
      "Epoch 80/300\n",
      "\u001b[1m24/24\u001b[0m \u001b[32m━━━━━━━━━━━━━━━━━━━━\u001b[0m\u001b[37m\u001b[0m \u001b[1m0s\u001b[0m 5ms/step - loss: 3558.6262 - mse: 3558.6262 - val_loss: 3140.2134 - val_mse: 3140.2134\n",
      "Epoch 81/300\n",
      "\u001b[1m24/24\u001b[0m \u001b[32m━━━━━━━━━━━━━━━━━━━━\u001b[0m\u001b[37m\u001b[0m \u001b[1m0s\u001b[0m 6ms/step - loss: 3071.2224 - mse: 3071.2224 - val_loss: 3129.9734 - val_mse: 3129.9734\n",
      "Epoch 82/300\n",
      "\u001b[1m24/24\u001b[0m \u001b[32m━━━━━━━━━━━━━━━━━━━━\u001b[0m\u001b[37m\u001b[0m \u001b[1m0s\u001b[0m 6ms/step - loss: 3636.6016 - mse: 3636.6016 - val_loss: 3116.7729 - val_mse: 3116.7729\n",
      "Epoch 83/300\n",
      "\u001b[1m24/24\u001b[0m \u001b[32m━━━━━━━━━━━━━━━━━━━━\u001b[0m\u001b[37m\u001b[0m \u001b[1m0s\u001b[0m 5ms/step - loss: 3696.2063 - mse: 3696.2063 - val_loss: 3098.1404 - val_mse: 3098.1404\n",
      "Epoch 84/300\n",
      "\u001b[1m24/24\u001b[0m \u001b[32m━━━━━━━━━━━━━━━━━━━━\u001b[0m\u001b[37m\u001b[0m \u001b[1m0s\u001b[0m 5ms/step - loss: 3489.7878 - mse: 3489.7876 - val_loss: 3089.6370 - val_mse: 3089.6367\n",
      "Epoch 85/300\n",
      "\u001b[1m24/24\u001b[0m \u001b[32m━━━━━━━━━━━━━━━━━━━━\u001b[0m\u001b[37m\u001b[0m \u001b[1m0s\u001b[0m 6ms/step - loss: 3092.1345 - mse: 3092.1345 - val_loss: 3078.1306 - val_mse: 3078.1306\n",
      "Epoch 86/300\n",
      "\u001b[1m24/24\u001b[0m \u001b[32m━━━━━━━━━━━━━━━━━━━━\u001b[0m\u001b[37m\u001b[0m \u001b[1m0s\u001b[0m 5ms/step - loss: 3448.0994 - mse: 3448.0994 - val_loss: 3064.8899 - val_mse: 3064.8899\n",
      "Epoch 87/300\n",
      "\u001b[1m24/24\u001b[0m \u001b[32m━━━━━━━━━━━━━━━━━━━━\u001b[0m\u001b[37m\u001b[0m \u001b[1m0s\u001b[0m 4ms/step - loss: 3306.6450 - mse: 3306.6450 - val_loss: 3055.9426 - val_mse: 3055.9426\n",
      "Epoch 88/300\n",
      "\u001b[1m24/24\u001b[0m \u001b[32m━━━━━━━━━━━━━━━━━━━━\u001b[0m\u001b[37m\u001b[0m \u001b[1m0s\u001b[0m 4ms/step - loss: 3132.1138 - mse: 3132.1138 - val_loss: 3050.2007 - val_mse: 3050.2007\n",
      "Epoch 89/300\n",
      "\u001b[1m24/24\u001b[0m \u001b[32m━━━━━━━━━━━━━━━━━━━━\u001b[0m\u001b[37m\u001b[0m \u001b[1m0s\u001b[0m 5ms/step - loss: 3481.2190 - mse: 3481.2190 - val_loss: 3041.8579 - val_mse: 3041.8579\n",
      "Epoch 90/300\n",
      "\u001b[1m24/24\u001b[0m \u001b[32m━━━━━━━━━━━━━━━━━━━━\u001b[0m\u001b[37m\u001b[0m \u001b[1m0s\u001b[0m 5ms/step - loss: 2830.7432 - mse: 2830.7432 - val_loss: 3030.7883 - val_mse: 3030.7883\n",
      "Epoch 91/300\n",
      "\u001b[1m24/24\u001b[0m \u001b[32m━━━━━━━━━━━━━━━━━━━━\u001b[0m\u001b[37m\u001b[0m \u001b[1m0s\u001b[0m 7ms/step - loss: 3516.6450 - mse: 3516.6450 - val_loss: 3019.6804 - val_mse: 3019.6804\n",
      "Epoch 92/300\n",
      "\u001b[1m24/24\u001b[0m \u001b[32m━━━━━━━━━━━━━━━━━━━━\u001b[0m\u001b[37m\u001b[0m \u001b[1m0s\u001b[0m 5ms/step - loss: 3489.1101 - mse: 3489.1101 - val_loss: 3009.5337 - val_mse: 3009.5337\n",
      "Epoch 93/300\n",
      "\u001b[1m24/24\u001b[0m \u001b[32m━━━━━━━━━━━━━━━━━━━━\u001b[0m\u001b[37m\u001b[0m \u001b[1m0s\u001b[0m 5ms/step - loss: 3284.8396 - mse: 3284.8396 - val_loss: 3001.7759 - val_mse: 3001.7759\n",
      "Epoch 94/300\n",
      "\u001b[1m24/24\u001b[0m \u001b[32m━━━━━━━━━━━━━━━━━━━━\u001b[0m\u001b[37m\u001b[0m \u001b[1m0s\u001b[0m 6ms/step - loss: 3473.9617 - mse: 3473.9617 - val_loss: 2994.5803 - val_mse: 2994.5803\n",
      "Epoch 95/300\n",
      "\u001b[1m24/24\u001b[0m \u001b[32m━━━━━━━━━━━━━━━━━━━━\u001b[0m\u001b[37m\u001b[0m \u001b[1m0s\u001b[0m 4ms/step - loss: 3150.3838 - mse: 3150.3838 - val_loss: 2989.4919 - val_mse: 2989.4919\n",
      "Epoch 96/300\n",
      "\u001b[1m24/24\u001b[0m \u001b[32m━━━━━━━━━━━━━━━━━━━━\u001b[0m\u001b[37m\u001b[0m \u001b[1m0s\u001b[0m 5ms/step - loss: 3200.2944 - mse: 3200.2942 - val_loss: 2982.0623 - val_mse: 2982.0623\n",
      "Epoch 97/300\n",
      "\u001b[1m24/24\u001b[0m \u001b[32m━━━━━━━━━━━━━━━━━━━━\u001b[0m\u001b[37m\u001b[0m \u001b[1m0s\u001b[0m 5ms/step - loss: 3352.8516 - mse: 3352.8516 - val_loss: 2975.1677 - val_mse: 2975.1677\n",
      "Epoch 98/300\n",
      "\u001b[1m24/24\u001b[0m \u001b[32m━━━━━━━━━━━━━━━━━━━━\u001b[0m\u001b[37m\u001b[0m \u001b[1m0s\u001b[0m 5ms/step - loss: 2986.4053 - mse: 2986.4053 - val_loss: 2967.4087 - val_mse: 2967.4087\n",
      "Epoch 99/300\n",
      "\u001b[1m24/24\u001b[0m \u001b[32m━━━━━━━━━━━━━━━━━━━━\u001b[0m\u001b[37m\u001b[0m \u001b[1m0s\u001b[0m 5ms/step - loss: 3116.2791 - mse: 3116.2791 - val_loss: 2965.1445 - val_mse: 2965.1445\n",
      "Epoch 100/300\n",
      "\u001b[1m24/24\u001b[0m \u001b[32m━━━━━━━━━━━━━━━━━━━━\u001b[0m\u001b[37m\u001b[0m \u001b[1m0s\u001b[0m 5ms/step - loss: 2761.9558 - mse: 2761.9556 - val_loss: 2959.0879 - val_mse: 2959.0879\n",
      "Epoch 101/300\n",
      "\u001b[1m24/24\u001b[0m \u001b[32m━━━━━━━━━━━━━━━━━━━━\u001b[0m\u001b[37m\u001b[0m \u001b[1m0s\u001b[0m 7ms/step - loss: 3280.8726 - mse: 3280.8726 - val_loss: 2943.7822 - val_mse: 2943.7822\n",
      "Epoch 102/300\n",
      "\u001b[1m24/24\u001b[0m \u001b[32m━━━━━━━━━━━━━━━━━━━━\u001b[0m\u001b[37m\u001b[0m \u001b[1m0s\u001b[0m 3ms/step - loss: 2831.5115 - mse: 2831.5115 - val_loss: 2939.0947 - val_mse: 2939.0947\n",
      "Epoch 103/300\n",
      "\u001b[1m24/24\u001b[0m \u001b[32m━━━━━━━━━━━━━━━━━━━━\u001b[0m\u001b[37m\u001b[0m \u001b[1m0s\u001b[0m 7ms/step - loss: 3372.6301 - mse: 3372.6301 - val_loss: 2931.8550 - val_mse: 2931.8550\n",
      "Epoch 104/300\n",
      "\u001b[1m24/24\u001b[0m \u001b[32m━━━━━━━━━━━━━━━━━━━━\u001b[0m\u001b[37m\u001b[0m \u001b[1m0s\u001b[0m 5ms/step - loss: 3441.9868 - mse: 3441.9868 - val_loss: 2924.3103 - val_mse: 2924.3103\n",
      "Epoch 105/300\n",
      "\u001b[1m24/24\u001b[0m \u001b[32m━━━━━━━━━━━━━━━━━━━━\u001b[0m\u001b[37m\u001b[0m \u001b[1m0s\u001b[0m 6ms/step - loss: 2623.6650 - mse: 2623.6650 - val_loss: 2921.0125 - val_mse: 2921.0125\n",
      "Epoch 106/300\n",
      "\u001b[1m24/24\u001b[0m \u001b[32m━━━━━━━━━━━━━━━━━━━━\u001b[0m\u001b[37m\u001b[0m \u001b[1m0s\u001b[0m 6ms/step - loss: 3342.5339 - mse: 3342.5339 - val_loss: 2911.3665 - val_mse: 2911.3665\n",
      "Epoch 107/300\n",
      "\u001b[1m24/24\u001b[0m \u001b[32m━━━━━━━━━━━━━━━━━━━━\u001b[0m\u001b[37m\u001b[0m \u001b[1m0s\u001b[0m 6ms/step - loss: 3079.4377 - mse: 3079.4377 - val_loss: 2903.3655 - val_mse: 2903.3655\n",
      "Epoch 108/300\n",
      "\u001b[1m24/24\u001b[0m \u001b[32m━━━━━━━━━━━━━━━━━━━━\u001b[0m\u001b[37m\u001b[0m \u001b[1m0s\u001b[0m 3ms/step - loss: 3181.2585 - mse: 3181.2585 - val_loss: 2894.7319 - val_mse: 2894.7319\n",
      "Epoch 109/300\n",
      "\u001b[1m24/24\u001b[0m \u001b[32m━━━━━━━━━━━━━━━━━━━━\u001b[0m\u001b[37m\u001b[0m \u001b[1m0s\u001b[0m 4ms/step - loss: 3440.2358 - mse: 3440.2358 - val_loss: 2886.0725 - val_mse: 2886.0725\n",
      "Epoch 110/300\n",
      "\u001b[1m24/24\u001b[0m \u001b[32m━━━━━━━━━━━━━━━━━━━━\u001b[0m\u001b[37m\u001b[0m \u001b[1m0s\u001b[0m 5ms/step - loss: 3067.9639 - mse: 3067.9639 - val_loss: 2880.1301 - val_mse: 2880.1301\n",
      "Epoch 111/300\n",
      "\u001b[1m24/24\u001b[0m \u001b[32m━━━━━━━━━━━━━━━━━━━━\u001b[0m\u001b[37m\u001b[0m \u001b[1m0s\u001b[0m 5ms/step - loss: 3027.7898 - mse: 3027.7898 - val_loss: 2875.7495 - val_mse: 2875.7495\n",
      "Epoch 112/300\n",
      "\u001b[1m24/24\u001b[0m \u001b[32m━━━━━━━━━━━━━━━━━━━━\u001b[0m\u001b[37m\u001b[0m \u001b[1m0s\u001b[0m 4ms/step - loss: 3051.2178 - mse: 3051.2178 - val_loss: 2870.1252 - val_mse: 2870.1252\n",
      "Epoch 113/300\n",
      "\u001b[1m24/24\u001b[0m \u001b[32m━━━━━━━━━━━━━━━━━━━━\u001b[0m\u001b[37m\u001b[0m \u001b[1m0s\u001b[0m 5ms/step - loss: 3114.0986 - mse: 3114.0986 - val_loss: 2861.6313 - val_mse: 2861.6313\n",
      "Epoch 114/300\n",
      "\u001b[1m24/24\u001b[0m \u001b[32m━━━━━━━━━━━━━━━━━━━━\u001b[0m\u001b[37m\u001b[0m \u001b[1m0s\u001b[0m 5ms/step - loss: 3025.6772 - mse: 3025.6772 - val_loss: 2858.8000 - val_mse: 2858.8000\n",
      "Epoch 115/300\n",
      "\u001b[1m24/24\u001b[0m \u001b[32m━━━━━━━━━━━━━━━━━━━━\u001b[0m\u001b[37m\u001b[0m \u001b[1m0s\u001b[0m 4ms/step - loss: 3130.1050 - mse: 3130.1050 - val_loss: 2850.2097 - val_mse: 2850.2097\n",
      "Epoch 116/300\n",
      "\u001b[1m24/24\u001b[0m \u001b[32m━━━━━━━━━━━━━━━━━━━━\u001b[0m\u001b[37m\u001b[0m \u001b[1m0s\u001b[0m 5ms/step - loss: 2697.8052 - mse: 2697.8052 - val_loss: 2845.3860 - val_mse: 2845.3860\n",
      "Epoch 117/300\n",
      "\u001b[1m24/24\u001b[0m \u001b[32m━━━━━━━━━━━━━━━━━━━━\u001b[0m\u001b[37m\u001b[0m \u001b[1m0s\u001b[0m 6ms/step - loss: 2720.0117 - mse: 2720.0117 - val_loss: 2836.9438 - val_mse: 2836.9438\n",
      "Epoch 118/300\n",
      "\u001b[1m24/24\u001b[0m \u001b[32m━━━━━━━━━━━━━━━━━━━━\u001b[0m\u001b[37m\u001b[0m \u001b[1m0s\u001b[0m 5ms/step - loss: 3137.9111 - mse: 3137.9111 - val_loss: 2828.7356 - val_mse: 2828.7356\n",
      "Epoch 119/300\n",
      "\u001b[1m24/24\u001b[0m \u001b[32m━━━━━━━━━━━━━━━━━━━━\u001b[0m\u001b[37m\u001b[0m \u001b[1m0s\u001b[0m 6ms/step - loss: 3234.0278 - mse: 3234.0278 - val_loss: 2822.4683 - val_mse: 2822.4683\n",
      "Epoch 120/300\n",
      "\u001b[1m24/24\u001b[0m \u001b[32m━━━━━━━━━━━━━━━━━━━━\u001b[0m\u001b[37m\u001b[0m \u001b[1m0s\u001b[0m 4ms/step - loss: 2975.8501 - mse: 2975.8501 - val_loss: 2815.2761 - val_mse: 2815.2761\n",
      "Epoch 121/300\n",
      "\u001b[1m24/24\u001b[0m \u001b[32m━━━━━━━━━━━━━━━━━━━━\u001b[0m\u001b[37m\u001b[0m \u001b[1m0s\u001b[0m 6ms/step - loss: 3197.2617 - mse: 3197.2617 - val_loss: 2809.6997 - val_mse: 2809.6997\n",
      "Epoch 122/300\n",
      "\u001b[1m24/24\u001b[0m \u001b[32m━━━━━━━━━━━━━━━━━━━━\u001b[0m\u001b[37m\u001b[0m \u001b[1m0s\u001b[0m 4ms/step - loss: 3066.3408 - mse: 3066.3406 - val_loss: 2802.0896 - val_mse: 2802.0896\n",
      "Epoch 123/300\n",
      "\u001b[1m24/24\u001b[0m \u001b[32m━━━━━━━━━━━━━━━━━━━━\u001b[0m\u001b[37m\u001b[0m \u001b[1m0s\u001b[0m 7ms/step - loss: 3091.3894 - mse: 3091.3894 - val_loss: 2797.4675 - val_mse: 2797.4675\n",
      "Epoch 124/300\n",
      "\u001b[1m24/24\u001b[0m \u001b[32m━━━━━━━━━━━━━━━━━━━━\u001b[0m\u001b[37m\u001b[0m \u001b[1m0s\u001b[0m 5ms/step - loss: 3326.2124 - mse: 3326.2124 - val_loss: 2795.6318 - val_mse: 2795.6318\n",
      "Epoch 125/300\n",
      "\u001b[1m24/24\u001b[0m \u001b[32m━━━━━━━━━━━━━━━━━━━━\u001b[0m\u001b[37m\u001b[0m \u001b[1m0s\u001b[0m 4ms/step - loss: 2742.7363 - mse: 2742.7363 - val_loss: 2787.4097 - val_mse: 2787.4097\n",
      "Epoch 126/300\n",
      "\u001b[1m24/24\u001b[0m \u001b[32m━━━━━━━━━━━━━━━━━━━━\u001b[0m\u001b[37m\u001b[0m \u001b[1m0s\u001b[0m 4ms/step - loss: 3246.3467 - mse: 3246.3467 - val_loss: 2783.6738 - val_mse: 2783.6736\n",
      "Epoch 127/300\n",
      "\u001b[1m24/24\u001b[0m \u001b[32m━━━━━━━━━━━━━━━━━━━━\u001b[0m\u001b[37m\u001b[0m \u001b[1m0s\u001b[0m 4ms/step - loss: 2910.3843 - mse: 2910.3843 - val_loss: 2778.6255 - val_mse: 2778.6255\n",
      "Epoch 128/300\n",
      "\u001b[1m24/24\u001b[0m \u001b[32m━━━━━━━━━━━━━━━━━━━━\u001b[0m\u001b[37m\u001b[0m \u001b[1m0s\u001b[0m 4ms/step - loss: 3087.2427 - mse: 3087.2427 - val_loss: 2773.6326 - val_mse: 2773.6326\n",
      "Epoch 129/300\n",
      "\u001b[1m24/24\u001b[0m \u001b[32m━━━━━━━━━━━━━━━━━━━━\u001b[0m\u001b[37m\u001b[0m \u001b[1m0s\u001b[0m 4ms/step - loss: 3065.4133 - mse: 3065.4133 - val_loss: 2771.7305 - val_mse: 2771.7305\n",
      "Epoch 130/300\n",
      "\u001b[1m24/24\u001b[0m \u001b[32m━━━━━━━━━━━━━━━━━━━━\u001b[0m\u001b[37m\u001b[0m \u001b[1m0s\u001b[0m 7ms/step - loss: 3024.6902 - mse: 3024.6902 - val_loss: 2764.7375 - val_mse: 2764.7375\n",
      "Epoch 131/300\n",
      "\u001b[1m24/24\u001b[0m \u001b[32m━━━━━━━━━━━━━━━━━━━━\u001b[0m\u001b[37m\u001b[0m \u001b[1m0s\u001b[0m 5ms/step - loss: 3208.3049 - mse: 3208.3049 - val_loss: 2757.6677 - val_mse: 2757.6677\n",
      "Epoch 132/300\n",
      "\u001b[1m24/24\u001b[0m \u001b[32m━━━━━━━━━━━━━━━━━━━━\u001b[0m\u001b[37m\u001b[0m \u001b[1m0s\u001b[0m 4ms/step - loss: 2757.6208 - mse: 2757.6211 - val_loss: 2753.5298 - val_mse: 2753.5298\n",
      "Epoch 133/300\n",
      "\u001b[1m24/24\u001b[0m \u001b[32m━━━━━━━━━━━━━━━━━━━━\u001b[0m\u001b[37m\u001b[0m \u001b[1m0s\u001b[0m 4ms/step - loss: 2772.3213 - mse: 2772.3213 - val_loss: 2758.7805 - val_mse: 2758.7805\n",
      "Epoch 134/300\n",
      "\u001b[1m24/24\u001b[0m \u001b[32m━━━━━━━━━━━━━━━━━━━━\u001b[0m\u001b[37m\u001b[0m \u001b[1m0s\u001b[0m 4ms/step - loss: 2755.7727 - mse: 2755.7727 - val_loss: 2756.6704 - val_mse: 2756.6704\n",
      "Epoch 135/300\n",
      "\u001b[1m24/24\u001b[0m \u001b[32m━━━━━━━━━━━━━━━━━━━━\u001b[0m\u001b[37m\u001b[0m \u001b[1m0s\u001b[0m 4ms/step - loss: 2797.4529 - mse: 2797.4529 - val_loss: 2744.4336 - val_mse: 2744.4336\n",
      "Epoch 136/300\n",
      "\u001b[1m24/24\u001b[0m \u001b[32m━━━━━━━━━━━━━━━━━━━━\u001b[0m\u001b[37m\u001b[0m \u001b[1m0s\u001b[0m 7ms/step - loss: 2976.7002 - mse: 2976.7002 - val_loss: 2744.0251 - val_mse: 2744.0251\n",
      "Epoch 137/300\n",
      "\u001b[1m24/24\u001b[0m \u001b[32m━━━━━━━━━━━━━━━━━━━━\u001b[0m\u001b[37m\u001b[0m \u001b[1m0s\u001b[0m 5ms/step - loss: 3174.7234 - mse: 3174.7234 - val_loss: 2733.6428 - val_mse: 2733.6428\n",
      "Epoch 138/300\n",
      "\u001b[1m24/24\u001b[0m \u001b[32m━━━━━━━━━━━━━━━━━━━━\u001b[0m\u001b[37m\u001b[0m \u001b[1m0s\u001b[0m 4ms/step - loss: 3253.5872 - mse: 3253.5872 - val_loss: 2730.0259 - val_mse: 2730.0259\n",
      "Epoch 139/300\n",
      "\u001b[1m24/24\u001b[0m \u001b[32m━━━━━━━━━━━━━━━━━━━━\u001b[0m\u001b[37m\u001b[0m \u001b[1m0s\u001b[0m 4ms/step - loss: 3127.2068 - mse: 3127.2068 - val_loss: 2727.7866 - val_mse: 2727.7866\n",
      "Epoch 140/300\n",
      "\u001b[1m24/24\u001b[0m \u001b[32m━━━━━━━━━━━━━━━━━━━━\u001b[0m\u001b[37m\u001b[0m \u001b[1m0s\u001b[0m 4ms/step - loss: 2930.8279 - mse: 2930.8279 - val_loss: 2724.8728 - val_mse: 2724.8728\n",
      "Epoch 141/300\n",
      "\u001b[1m24/24\u001b[0m \u001b[32m━━━━━━━━━━━━━━━━━━━━\u001b[0m\u001b[37m\u001b[0m \u001b[1m0s\u001b[0m 4ms/step - loss: 2869.1191 - mse: 2869.1191 - val_loss: 2724.4739 - val_mse: 2724.4739\n",
      "Epoch 142/300\n",
      "\u001b[1m24/24\u001b[0m \u001b[32m━━━━━━━━━━━━━━━━━━━━\u001b[0m\u001b[37m\u001b[0m \u001b[1m0s\u001b[0m 6ms/step - loss: 2972.9348 - mse: 2972.9348 - val_loss: 2721.7473 - val_mse: 2721.7473\n",
      "Epoch 143/300\n",
      "\u001b[1m24/24\u001b[0m \u001b[32m━━━━━━━━━━━━━━━━━━━━\u001b[0m\u001b[37m\u001b[0m \u001b[1m0s\u001b[0m 4ms/step - loss: 2727.2852 - mse: 2727.2852 - val_loss: 2715.6943 - val_mse: 2715.6943\n",
      "Epoch 144/300\n",
      "\u001b[1m24/24\u001b[0m \u001b[32m━━━━━━━━━━━━━━━━━━━━\u001b[0m\u001b[37m\u001b[0m \u001b[1m0s\u001b[0m 4ms/step - loss: 2934.1687 - mse: 2934.1685 - val_loss: 2714.2932 - val_mse: 2714.2932\n",
      "Epoch 145/300\n",
      "\u001b[1m24/24\u001b[0m \u001b[32m━━━━━━━━━━━━━━━━━━━━\u001b[0m\u001b[37m\u001b[0m \u001b[1m0s\u001b[0m 4ms/step - loss: 2672.2644 - mse: 2672.2644 - val_loss: 2714.5859 - val_mse: 2714.5859\n",
      "Epoch 146/300\n",
      "\u001b[1m24/24\u001b[0m \u001b[32m━━━━━━━━━━━━━━━━━━━━\u001b[0m\u001b[37m\u001b[0m \u001b[1m0s\u001b[0m 3ms/step - loss: 3376.4082 - mse: 3376.4082 - val_loss: 2712.0498 - val_mse: 2712.0498\n",
      "Epoch 147/300\n",
      "\u001b[1m24/24\u001b[0m \u001b[32m━━━━━━━━━━━━━━━━━━━━\u001b[0m\u001b[37m\u001b[0m \u001b[1m0s\u001b[0m 7ms/step - loss: 2980.7922 - mse: 2980.7922 - val_loss: 2710.2249 - val_mse: 2710.2249\n",
      "Epoch 148/300\n",
      "\u001b[1m24/24\u001b[0m \u001b[32m━━━━━━━━━━━━━━━━━━━━\u001b[0m\u001b[37m\u001b[0m \u001b[1m0s\u001b[0m 5ms/step - loss: 2779.9124 - mse: 2779.9124 - val_loss: 2698.9976 - val_mse: 2698.9976\n",
      "Epoch 149/300\n",
      "\u001b[1m24/24\u001b[0m \u001b[32m━━━━━━━━━━━━━━━━━━━━\u001b[0m\u001b[37m\u001b[0m \u001b[1m0s\u001b[0m 4ms/step - loss: 3103.0166 - mse: 3103.0168 - val_loss: 2696.0095 - val_mse: 2696.0095\n",
      "Epoch 150/300\n",
      "\u001b[1m24/24\u001b[0m \u001b[32m━━━━━━━━━━━━━━━━━━━━\u001b[0m\u001b[37m\u001b[0m \u001b[1m0s\u001b[0m 4ms/step - loss: 3097.6113 - mse: 3097.6113 - val_loss: 2688.4045 - val_mse: 2688.4045\n",
      "Epoch 151/300\n",
      "\u001b[1m24/24\u001b[0m \u001b[32m━━━━━━━━━━━━━━━━━━━━\u001b[0m\u001b[37m\u001b[0m \u001b[1m0s\u001b[0m 4ms/step - loss: 2865.8147 - mse: 2865.8147 - val_loss: 2686.6577 - val_mse: 2686.6577\n",
      "Epoch 152/300\n",
      "\u001b[1m24/24\u001b[0m \u001b[32m━━━━━━━━━━━━━━━━━━━━\u001b[0m\u001b[37m\u001b[0m \u001b[1m0s\u001b[0m 4ms/step - loss: 3000.8687 - mse: 3000.8687 - val_loss: 2689.7539 - val_mse: 2689.7539\n",
      "Epoch 153/300\n",
      "\u001b[1m24/24\u001b[0m \u001b[32m━━━━━━━━━━━━━━━━━━━━\u001b[0m\u001b[37m\u001b[0m \u001b[1m0s\u001b[0m 5ms/step - loss: 3140.8396 - mse: 3140.8396 - val_loss: 2679.8162 - val_mse: 2679.8162\n",
      "Epoch 154/300\n",
      "\u001b[1m24/24\u001b[0m \u001b[32m━━━━━━━━━━━━━━━━━━━━\u001b[0m\u001b[37m\u001b[0m \u001b[1m0s\u001b[0m 4ms/step - loss: 2744.2954 - mse: 2744.2954 - val_loss: 2677.9441 - val_mse: 2677.9441\n",
      "Epoch 155/300\n",
      "\u001b[1m24/24\u001b[0m \u001b[32m━━━━━━━━━━━━━━━━━━━━\u001b[0m\u001b[37m\u001b[0m \u001b[1m0s\u001b[0m 3ms/step - loss: 2801.2285 - mse: 2801.2285 - val_loss: 2676.1196 - val_mse: 2676.1196\n",
      "Epoch 156/300\n",
      "\u001b[1m24/24\u001b[0m \u001b[32m━━━━━━━━━━━━━━━━━━━━\u001b[0m\u001b[37m\u001b[0m \u001b[1m0s\u001b[0m 3ms/step - loss: 2906.7891 - mse: 2906.7891 - val_loss: 2679.2136 - val_mse: 2679.2136\n",
      "Epoch 157/300\n",
      "\u001b[1m24/24\u001b[0m \u001b[32m━━━━━━━━━━━━━━━━━━━━\u001b[0m\u001b[37m\u001b[0m \u001b[1m0s\u001b[0m 4ms/step - loss: 2807.8220 - mse: 2807.8220 - val_loss: 2681.9285 - val_mse: 2681.9285\n",
      "Epoch 158/300\n",
      "\u001b[1m24/24\u001b[0m \u001b[32m━━━━━━━━━━━━━━━━━━━━\u001b[0m\u001b[37m\u001b[0m \u001b[1m0s\u001b[0m 3ms/step - loss: 2886.3689 - mse: 2886.3689 - val_loss: 2678.8557 - val_mse: 2678.8557\n",
      "Epoch 159/300\n",
      "\u001b[1m24/24\u001b[0m \u001b[32m━━━━━━━━━━━━━━━━━━━━\u001b[0m\u001b[37m\u001b[0m \u001b[1m0s\u001b[0m 5ms/step - loss: 2838.2952 - mse: 2838.2952 - val_loss: 2672.9856 - val_mse: 2672.9856\n",
      "Epoch 160/300\n",
      "\u001b[1m24/24\u001b[0m \u001b[32m━━━━━━━━━━━━━━━━━━━━\u001b[0m\u001b[37m\u001b[0m \u001b[1m0s\u001b[0m 4ms/step - loss: 2733.9795 - mse: 2733.9795 - val_loss: 2674.3362 - val_mse: 2674.3362\n",
      "Epoch 161/300\n",
      "\u001b[1m24/24\u001b[0m \u001b[32m━━━━━━━━━━━━━━━━━━━━\u001b[0m\u001b[37m\u001b[0m \u001b[1m0s\u001b[0m 4ms/step - loss: 2588.7983 - mse: 2588.7983 - val_loss: 2666.0417 - val_mse: 2666.0415\n",
      "Epoch 162/300\n",
      "\u001b[1m24/24\u001b[0m \u001b[32m━━━━━━━━━━━━━━━━━━━━\u001b[0m\u001b[37m\u001b[0m \u001b[1m0s\u001b[0m 3ms/step - loss: 2977.2229 - mse: 2977.2229 - val_loss: 2665.8013 - val_mse: 2665.8013\n",
      "Epoch 163/300\n",
      "\u001b[1m24/24\u001b[0m \u001b[32m━━━━━━━━━━━━━━━━━━━━\u001b[0m\u001b[37m\u001b[0m \u001b[1m0s\u001b[0m 4ms/step - loss: 2717.6812 - mse: 2717.6812 - val_loss: 2659.7112 - val_mse: 2659.7112\n",
      "Epoch 164/300\n",
      "\u001b[1m24/24\u001b[0m \u001b[32m━━━━━━━━━━━━━━━━━━━━\u001b[0m\u001b[37m\u001b[0m \u001b[1m0s\u001b[0m 4ms/step - loss: 2829.2712 - mse: 2829.2712 - val_loss: 2659.0977 - val_mse: 2659.0977\n",
      "Epoch 165/300\n",
      "\u001b[1m24/24\u001b[0m \u001b[32m━━━━━━━━━━━━━━━━━━━━\u001b[0m\u001b[37m\u001b[0m \u001b[1m0s\u001b[0m 6ms/step - loss: 2971.6963 - mse: 2971.6963 - val_loss: 2656.4011 - val_mse: 2656.4011\n",
      "Epoch 166/300\n",
      "\u001b[1m24/24\u001b[0m \u001b[32m━━━━━━━━━━━━━━━━━━━━\u001b[0m\u001b[37m\u001b[0m \u001b[1m0s\u001b[0m 3ms/step - loss: 2736.1768 - mse: 2736.1768 - val_loss: 2659.6929 - val_mse: 2659.6929\n",
      "Epoch 167/300\n",
      "\u001b[1m24/24\u001b[0m \u001b[32m━━━━━━━━━━━━━━━━━━━━\u001b[0m\u001b[37m\u001b[0m \u001b[1m0s\u001b[0m 4ms/step - loss: 2708.8811 - mse: 2708.8811 - val_loss: 2648.2520 - val_mse: 2648.2520\n",
      "Epoch 168/300\n",
      "\u001b[1m24/24\u001b[0m \u001b[32m━━━━━━━━━━━━━━━━━━━━\u001b[0m\u001b[37m\u001b[0m \u001b[1m0s\u001b[0m 4ms/step - loss: 3057.4412 - mse: 3057.4412 - val_loss: 2647.0803 - val_mse: 2647.0803\n",
      "Epoch 169/300\n",
      "\u001b[1m24/24\u001b[0m \u001b[32m━━━━━━━━━━━━━━━━━━━━\u001b[0m\u001b[37m\u001b[0m \u001b[1m0s\u001b[0m 3ms/step - loss: 2656.2317 - mse: 2656.2317 - val_loss: 2642.2371 - val_mse: 2642.2371\n",
      "Epoch 170/300\n",
      "\u001b[1m24/24\u001b[0m \u001b[32m━━━━━━━━━━━━━━━━━━━━\u001b[0m\u001b[37m\u001b[0m \u001b[1m0s\u001b[0m 4ms/step - loss: 2728.4185 - mse: 2728.4185 - val_loss: 2641.6350 - val_mse: 2641.6350\n",
      "Epoch 171/300\n",
      "\u001b[1m24/24\u001b[0m \u001b[32m━━━━━━━━━━━━━━━━━━━━\u001b[0m\u001b[37m\u001b[0m \u001b[1m0s\u001b[0m 4ms/step - loss: 3031.9341 - mse: 3031.9341 - val_loss: 2642.1995 - val_mse: 2642.1995\n",
      "Epoch 172/300\n",
      "\u001b[1m24/24\u001b[0m \u001b[32m━━━━━━━━━━━━━━━━━━━━\u001b[0m\u001b[37m\u001b[0m \u001b[1m0s\u001b[0m 4ms/step - loss: 2423.7576 - mse: 2423.7576 - val_loss: 2648.6536 - val_mse: 2648.6536\n",
      "Epoch 173/300\n",
      "\u001b[1m24/24\u001b[0m \u001b[32m━━━━━━━━━━━━━━━━━━━━\u001b[0m\u001b[37m\u001b[0m \u001b[1m0s\u001b[0m 4ms/step - loss: 3263.1558 - mse: 3263.1558 - val_loss: 2648.2261 - val_mse: 2648.2261\n",
      "Epoch 174/300\n",
      "\u001b[1m24/24\u001b[0m \u001b[32m━━━━━━━━━━━━━━━━━━━━\u001b[0m\u001b[37m\u001b[0m \u001b[1m0s\u001b[0m 4ms/step - loss: 2679.4480 - mse: 2679.4480 - val_loss: 2645.5320 - val_mse: 2645.5320\n",
      "Epoch 175/300\n",
      "\u001b[1m24/24\u001b[0m \u001b[32m━━━━━━━━━━━━━━━━━━━━\u001b[0m\u001b[37m\u001b[0m \u001b[1m0s\u001b[0m 4ms/step - loss: 2972.3948 - mse: 2972.3948 - val_loss: 2646.7153 - val_mse: 2646.7153\n",
      "Epoch 176/300\n",
      "\u001b[1m24/24\u001b[0m \u001b[32m━━━━━━━━━━━━━━━━━━━━\u001b[0m\u001b[37m\u001b[0m \u001b[1m0s\u001b[0m 4ms/step - loss: 2645.3071 - mse: 2645.3071 - val_loss: 2643.3733 - val_mse: 2643.3733\n",
      "Epoch 177/300\n",
      "\u001b[1m24/24\u001b[0m \u001b[32m━━━━━━━━━━━━━━━━━━━━\u001b[0m\u001b[37m\u001b[0m \u001b[1m0s\u001b[0m 4ms/step - loss: 2785.4175 - mse: 2785.4175 - val_loss: 2645.9895 - val_mse: 2645.9895\n",
      "Epoch 178/300\n",
      "\u001b[1m24/24\u001b[0m \u001b[32m━━━━━━━━━━━━━━━━━━━━\u001b[0m\u001b[37m\u001b[0m \u001b[1m0s\u001b[0m 4ms/step - loss: 2766.5771 - mse: 2766.5771 - val_loss: 2637.5356 - val_mse: 2637.5356\n",
      "Epoch 179/300\n",
      "\u001b[1m24/24\u001b[0m \u001b[32m━━━━━━━━━━━━━━━━━━━━\u001b[0m\u001b[37m\u001b[0m \u001b[1m0s\u001b[0m 4ms/step - loss: 2645.6101 - mse: 2645.6101 - val_loss: 2636.1914 - val_mse: 2636.1914\n",
      "Epoch 180/300\n",
      "\u001b[1m24/24\u001b[0m \u001b[32m━━━━━━━━━━━━━━━━━━━━\u001b[0m\u001b[37m\u001b[0m \u001b[1m0s\u001b[0m 5ms/step - loss: 2436.9136 - mse: 2436.9136 - val_loss: 2638.0391 - val_mse: 2638.0391\n",
      "Epoch 181/300\n",
      "\u001b[1m24/24\u001b[0m \u001b[32m━━━━━━━━━━━━━━━━━━━━\u001b[0m\u001b[37m\u001b[0m \u001b[1m0s\u001b[0m 4ms/step - loss: 2703.9043 - mse: 2703.9043 - val_loss: 2629.7134 - val_mse: 2629.7134\n",
      "Epoch 182/300\n",
      "\u001b[1m24/24\u001b[0m \u001b[32m━━━━━━━━━━━━━━━━━━━━\u001b[0m\u001b[37m\u001b[0m \u001b[1m0s\u001b[0m 4ms/step - loss: 2608.0696 - mse: 2608.0696 - val_loss: 2632.4600 - val_mse: 2632.4600\n",
      "Epoch 183/300\n",
      "\u001b[1m24/24\u001b[0m \u001b[32m━━━━━━━━━━━━━━━━━━━━\u001b[0m\u001b[37m\u001b[0m \u001b[1m0s\u001b[0m 4ms/step - loss: 2386.3157 - mse: 2386.3157 - val_loss: 2636.7224 - val_mse: 2636.7224\n",
      "Epoch 184/300\n",
      "\u001b[1m24/24\u001b[0m \u001b[32m━━━━━━━━━━━━━━━━━━━━\u001b[0m\u001b[37m\u001b[0m \u001b[1m0s\u001b[0m 5ms/step - loss: 2731.2327 - mse: 2731.2327 - val_loss: 2631.4370 - val_mse: 2631.4370\n",
      "Epoch 185/300\n",
      "\u001b[1m24/24\u001b[0m \u001b[32m━━━━━━━━━━━━━━━━━━━━\u001b[0m\u001b[37m\u001b[0m \u001b[1m0s\u001b[0m 4ms/step - loss: 2888.0740 - mse: 2888.0737 - val_loss: 2628.7246 - val_mse: 2628.7249\n",
      "Epoch 186/300\n",
      "\u001b[1m24/24\u001b[0m \u001b[32m━━━━━━━━━━━━━━━━━━━━\u001b[0m\u001b[37m\u001b[0m \u001b[1m0s\u001b[0m 3ms/step - loss: 2793.3052 - mse: 2793.3052 - val_loss: 2630.7024 - val_mse: 2630.7024\n",
      "Epoch 187/300\n",
      "\u001b[1m24/24\u001b[0m \u001b[32m━━━━━━━━━━━━━━━━━━━━\u001b[0m\u001b[37m\u001b[0m \u001b[1m0s\u001b[0m 4ms/step - loss: 2512.5977 - mse: 2512.5977 - val_loss: 2635.3420 - val_mse: 2635.3420\n",
      "Epoch 188/300\n",
      "\u001b[1m24/24\u001b[0m \u001b[32m━━━━━━━━━━━━━━━━━━━━\u001b[0m\u001b[37m\u001b[0m \u001b[1m0s\u001b[0m 5ms/step - loss: 2802.1631 - mse: 2802.1631 - val_loss: 2631.0259 - val_mse: 2631.0259\n",
      "Epoch 189/300\n",
      "\u001b[1m24/24\u001b[0m \u001b[32m━━━━━━━━━━━━━━━━━━━━\u001b[0m\u001b[37m\u001b[0m \u001b[1m0s\u001b[0m 5ms/step - loss: 3026.9583 - mse: 3026.9580 - val_loss: 2631.4475 - val_mse: 2631.4475\n",
      "Epoch 190/300\n",
      "\u001b[1m24/24\u001b[0m \u001b[32m━━━━━━━━━━━━━━━━━━━━\u001b[0m\u001b[37m\u001b[0m \u001b[1m0s\u001b[0m 3ms/step - loss: 2706.9324 - mse: 2706.9324 - val_loss: 2629.3567 - val_mse: 2629.3567\n",
      "Epoch 191/300\n",
      "\u001b[1m24/24\u001b[0m \u001b[32m━━━━━━━━━━━━━━━━━━━━\u001b[0m\u001b[37m\u001b[0m \u001b[1m0s\u001b[0m 3ms/step - loss: 2581.4956 - mse: 2581.4956 - val_loss: 2625.1895 - val_mse: 2625.1892\n",
      "Epoch 192/300\n",
      "\u001b[1m24/24\u001b[0m \u001b[32m━━━━━━━━━━━━━━━━━━━━\u001b[0m\u001b[37m\u001b[0m \u001b[1m0s\u001b[0m 3ms/step - loss: 3031.9060 - mse: 3031.9058 - val_loss: 2627.1714 - val_mse: 2627.1714\n",
      "Epoch 193/300\n",
      "\u001b[1m24/24\u001b[0m \u001b[32m━━━━━━━━━━━━━━━━━━━━\u001b[0m\u001b[37m\u001b[0m \u001b[1m0s\u001b[0m 3ms/step - loss: 2962.9087 - mse: 2962.9087 - val_loss: 2627.1055 - val_mse: 2627.1055\n",
      "Epoch 194/300\n",
      "\u001b[1m24/24\u001b[0m \u001b[32m━━━━━━━━━━━━━━━━━━━━\u001b[0m\u001b[37m\u001b[0m \u001b[1m0s\u001b[0m 6ms/step - loss: 2783.6440 - mse: 2783.6440 - val_loss: 2615.1414 - val_mse: 2615.1414\n",
      "Epoch 195/300\n",
      "\u001b[1m24/24\u001b[0m \u001b[32m━━━━━━━━━━━━━━━━━━━━\u001b[0m\u001b[37m\u001b[0m \u001b[1m0s\u001b[0m 4ms/step - loss: 3011.5537 - mse: 3011.5537 - val_loss: 2626.0442 - val_mse: 2626.0442\n",
      "Epoch 196/300\n",
      "\u001b[1m24/24\u001b[0m \u001b[32m━━━━━━━━━━━━━━━━━━━━\u001b[0m\u001b[37m\u001b[0m \u001b[1m0s\u001b[0m 4ms/step - loss: 2740.3564 - mse: 2740.3564 - val_loss: 2623.5886 - val_mse: 2623.5886\n",
      "Epoch 197/300\n",
      "\u001b[1m24/24\u001b[0m \u001b[32m━━━━━━━━━━━━━━━━━━━━\u001b[0m\u001b[37m\u001b[0m \u001b[1m0s\u001b[0m 4ms/step - loss: 2583.4189 - mse: 2583.4189 - val_loss: 2625.2483 - val_mse: 2625.2483\n",
      "Epoch 198/300\n",
      "\u001b[1m24/24\u001b[0m \u001b[32m━━━━━━━━━━━━━━━━━━━━\u001b[0m\u001b[37m\u001b[0m \u001b[1m0s\u001b[0m 4ms/step - loss: 2725.6609 - mse: 2725.6609 - val_loss: 2619.3057 - val_mse: 2619.3057\n",
      "Epoch 199/300\n",
      "\u001b[1m24/24\u001b[0m \u001b[32m━━━━━━━━━━━━━━━━━━━━\u001b[0m\u001b[37m\u001b[0m \u001b[1m0s\u001b[0m 4ms/step - loss: 3140.5952 - mse: 3140.5952 - val_loss: 2617.4924 - val_mse: 2617.4919\n",
      "Epoch 200/300\n",
      "\u001b[1m24/24\u001b[0m \u001b[32m━━━━━━━━━━━━━━━━━━━━\u001b[0m\u001b[37m\u001b[0m \u001b[1m0s\u001b[0m 4ms/step - loss: 2781.4397 - mse: 2781.4397 - val_loss: 2618.3398 - val_mse: 2618.3398\n",
      "Epoch 201/300\n",
      "\u001b[1m24/24\u001b[0m \u001b[32m━━━━━━━━━━━━━━━━━━━━\u001b[0m\u001b[37m\u001b[0m \u001b[1m0s\u001b[0m 4ms/step - loss: 2729.4773 - mse: 2729.4771 - val_loss: 2619.1958 - val_mse: 2619.1958\n",
      "Epoch 202/300\n",
      "\u001b[1m24/24\u001b[0m \u001b[32m━━━━━━━━━━━━━━━━━━━━\u001b[0m\u001b[37m\u001b[0m \u001b[1m0s\u001b[0m 4ms/step - loss: 2522.5591 - mse: 2522.5591 - val_loss: 2621.2908 - val_mse: 2621.2910\n",
      "Epoch 203/300\n",
      "\u001b[1m24/24\u001b[0m \u001b[32m━━━━━━━━━━━━━━━━━━━━\u001b[0m\u001b[37m\u001b[0m \u001b[1m0s\u001b[0m 4ms/step - loss: 2940.8811 - mse: 2940.8811 - val_loss: 2616.8276 - val_mse: 2616.8276\n",
      "Epoch 204/300\n",
      "\u001b[1m24/24\u001b[0m \u001b[32m━━━━━━━━━━━━━━━━━━━━\u001b[0m\u001b[37m\u001b[0m \u001b[1m0s\u001b[0m 4ms/step - loss: 2643.8469 - mse: 2643.8469 - val_loss: 2615.9114 - val_mse: 2615.9114\n",
      "Epoch 205/300\n",
      "\u001b[1m24/24\u001b[0m \u001b[32m━━━━━━━━━━━━━━━━━━━━\u001b[0m\u001b[37m\u001b[0m \u001b[1m0s\u001b[0m 4ms/step - loss: 2788.0388 - mse: 2788.0388 - val_loss: 2618.4143 - val_mse: 2618.4143\n",
      "Epoch 206/300\n",
      "\u001b[1m24/24\u001b[0m \u001b[32m━━━━━━━━━━━━━━━━━━━━\u001b[0m\u001b[37m\u001b[0m \u001b[1m0s\u001b[0m 4ms/step - loss: 3124.2668 - mse: 3124.2671 - val_loss: 2616.1479 - val_mse: 2616.1479\n",
      "Epoch 207/300\n",
      "\u001b[1m24/24\u001b[0m \u001b[32m━━━━━━━━━━━━━━━━━━━━\u001b[0m\u001b[37m\u001b[0m \u001b[1m0s\u001b[0m 4ms/step - loss: 2504.3113 - mse: 2504.3113 - val_loss: 2610.7732 - val_mse: 2610.7732\n",
      "Epoch 208/300\n",
      "\u001b[1m24/24\u001b[0m \u001b[32m━━━━━━━━━━━━━━━━━━━━\u001b[0m\u001b[37m\u001b[0m \u001b[1m0s\u001b[0m 4ms/step - loss: 2600.5967 - mse: 2600.5967 - val_loss: 2615.0259 - val_mse: 2615.0259\n",
      "Epoch 209/300\n",
      "\u001b[1m24/24\u001b[0m \u001b[32m━━━━━━━━━━━━━━━━━━━━\u001b[0m\u001b[37m\u001b[0m \u001b[1m0s\u001b[0m 3ms/step - loss: 2711.3135 - mse: 2711.3135 - val_loss: 2620.2327 - val_mse: 2620.2327\n",
      "Epoch 210/300\n",
      "\u001b[1m24/24\u001b[0m \u001b[32m━━━━━━━━━━━━━━━━━━━━\u001b[0m\u001b[37m\u001b[0m \u001b[1m0s\u001b[0m 4ms/step - loss: 3159.0271 - mse: 3159.0271 - val_loss: 2611.9521 - val_mse: 2611.9521\n",
      "Epoch 211/300\n",
      "\u001b[1m24/24\u001b[0m \u001b[32m━━━━━━━━━━━━━━━━━━━━\u001b[0m\u001b[37m\u001b[0m \u001b[1m0s\u001b[0m 3ms/step - loss: 2458.3916 - mse: 2458.3916 - val_loss: 2608.7971 - val_mse: 2608.7971\n",
      "Epoch 212/300\n",
      "\u001b[1m24/24\u001b[0m \u001b[32m━━━━━━━━━━━━━━━━━━━━\u001b[0m\u001b[37m\u001b[0m \u001b[1m0s\u001b[0m 4ms/step - loss: 2628.1355 - mse: 2628.1355 - val_loss: 2610.1970 - val_mse: 2610.1973\n",
      "Epoch 213/300\n",
      "\u001b[1m24/24\u001b[0m \u001b[32m━━━━━━━━━━━━━━━━━━━━\u001b[0m\u001b[37m\u001b[0m \u001b[1m0s\u001b[0m 4ms/step - loss: 2680.5142 - mse: 2680.5142 - val_loss: 2613.5200 - val_mse: 2613.5200\n",
      "Epoch 214/300\n",
      "\u001b[1m24/24\u001b[0m \u001b[32m━━━━━━━━━━━━━━━━━━━━\u001b[0m\u001b[37m\u001b[0m \u001b[1m0s\u001b[0m 5ms/step - loss: 2331.2283 - mse: 2331.2283 - val_loss: 2609.5356 - val_mse: 2609.5356\n",
      "Epoch 215/300\n",
      "\u001b[1m24/24\u001b[0m \u001b[32m━━━━━━━━━━━━━━━━━━━━\u001b[0m\u001b[37m\u001b[0m \u001b[1m0s\u001b[0m 4ms/step - loss: 2482.2041 - mse: 2482.2041 - val_loss: 2609.6841 - val_mse: 2609.6843\n",
      "Epoch 216/300\n",
      "\u001b[1m24/24\u001b[0m \u001b[32m━━━━━━━━━━━━━━━━━━━━\u001b[0m\u001b[37m\u001b[0m \u001b[1m0s\u001b[0m 5ms/step - loss: 2698.0500 - mse: 2698.0500 - val_loss: 2609.0740 - val_mse: 2609.0740\n",
      "Epoch 217/300\n",
      "\u001b[1m24/24\u001b[0m \u001b[32m━━━━━━━━━━━━━━━━━━━━\u001b[0m\u001b[37m\u001b[0m \u001b[1m0s\u001b[0m 4ms/step - loss: 3002.8909 - mse: 3002.8909 - val_loss: 2617.7588 - val_mse: 2617.7588\n",
      "Epoch 218/300\n",
      "\u001b[1m24/24\u001b[0m \u001b[32m━━━━━━━━━━━━━━━━━━━━\u001b[0m\u001b[37m\u001b[0m \u001b[1m0s\u001b[0m 4ms/step - loss: 2848.2629 - mse: 2848.2629 - val_loss: 2616.7844 - val_mse: 2616.7844\n",
      "Epoch 219/300\n",
      "\u001b[1m24/24\u001b[0m \u001b[32m━━━━━━━━━━━━━━━━━━━━\u001b[0m\u001b[37m\u001b[0m \u001b[1m0s\u001b[0m 5ms/step - loss: 2945.9802 - mse: 2945.9802 - val_loss: 2623.9429 - val_mse: 2623.9429\n",
      "Epoch 220/300\n",
      "\u001b[1m24/24\u001b[0m \u001b[32m━━━━━━━━━━━━━━━━━━━━\u001b[0m\u001b[37m\u001b[0m \u001b[1m0s\u001b[0m 3ms/step - loss: 2572.1533 - mse: 2572.1533 - val_loss: 2608.6777 - val_mse: 2608.6777\n",
      "Epoch 221/300\n",
      "\u001b[1m24/24\u001b[0m \u001b[32m━━━━━━━━━━━━━━━━━━━━\u001b[0m\u001b[37m\u001b[0m \u001b[1m0s\u001b[0m 3ms/step - loss: 2898.2905 - mse: 2898.2905 - val_loss: 2608.2012 - val_mse: 2608.2012\n",
      "Epoch 222/300\n",
      "\u001b[1m24/24\u001b[0m \u001b[32m━━━━━━━━━━━━━━━━━━━━\u001b[0m\u001b[37m\u001b[0m \u001b[1m0s\u001b[0m 4ms/step - loss: 2638.4944 - mse: 2638.4944 - val_loss: 2611.0217 - val_mse: 2611.0217\n",
      "Epoch 223/300\n",
      "\u001b[1m24/24\u001b[0m \u001b[32m━━━━━━━━━━━━━━━━━━━━\u001b[0m\u001b[37m\u001b[0m \u001b[1m0s\u001b[0m 4ms/step - loss: 2647.6155 - mse: 2647.6155 - val_loss: 2616.1702 - val_mse: 2616.1702\n",
      "Epoch 224/300\n",
      "\u001b[1m24/24\u001b[0m \u001b[32m━━━━━━━━━━━━━━━━━━━━\u001b[0m\u001b[37m\u001b[0m \u001b[1m0s\u001b[0m 6ms/step - loss: 2537.4231 - mse: 2537.4231 - val_loss: 2617.4548 - val_mse: 2617.4548\n",
      "Epoch 225/300\n",
      "\u001b[1m24/24\u001b[0m \u001b[32m━━━━━━━━━━━━━━━━━━━━\u001b[0m\u001b[37m\u001b[0m \u001b[1m0s\u001b[0m 3ms/step - loss: 2696.6458 - mse: 2696.6458 - val_loss: 2615.6157 - val_mse: 2615.6157\n",
      "Epoch 226/300\n",
      "\u001b[1m24/24\u001b[0m \u001b[32m━━━━━━━━━━━━━━━━━━━━\u001b[0m\u001b[37m\u001b[0m \u001b[1m0s\u001b[0m 6ms/step - loss: 2722.5740 - mse: 2722.5740 - val_loss: 2610.7512 - val_mse: 2610.7512\n",
      "Epoch 227/300\n",
      "\u001b[1m24/24\u001b[0m \u001b[32m━━━━━━━━━━━━━━━━━━━━\u001b[0m\u001b[37m\u001b[0m \u001b[1m0s\u001b[0m 7ms/step - loss: 2530.6753 - mse: 2530.6753 - val_loss: 2613.2505 - val_mse: 2613.2505\n",
      "Epoch 228/300\n",
      "\u001b[1m24/24\u001b[0m \u001b[32m━━━━━━━━━━━━━━━━━━━━\u001b[0m\u001b[37m\u001b[0m \u001b[1m0s\u001b[0m 4ms/step - loss: 2757.0291 - mse: 2757.0291 - val_loss: 2607.3140 - val_mse: 2607.3140\n",
      "Epoch 229/300\n",
      "\u001b[1m24/24\u001b[0m \u001b[32m━━━━━━━━━━━━━━━━━━━━\u001b[0m\u001b[37m\u001b[0m \u001b[1m0s\u001b[0m 4ms/step - loss: 2787.0920 - mse: 2787.0920 - val_loss: 2608.3230 - val_mse: 2608.3230\n",
      "Epoch 230/300\n",
      "\u001b[1m24/24\u001b[0m \u001b[32m━━━━━━━━━━━━━━━━━━━━\u001b[0m\u001b[37m\u001b[0m \u001b[1m0s\u001b[0m 3ms/step - loss: 3007.7729 - mse: 3007.7729 - val_loss: 2617.2358 - val_mse: 2617.2358\n",
      "Epoch 231/300\n",
      "\u001b[1m24/24\u001b[0m \u001b[32m━━━━━━━━━━━━━━━━━━━━\u001b[0m\u001b[37m\u001b[0m \u001b[1m0s\u001b[0m 4ms/step - loss: 3196.3928 - mse: 3196.3928 - val_loss: 2611.6948 - val_mse: 2611.6948\n",
      "Epoch 232/300\n",
      "\u001b[1m24/24\u001b[0m \u001b[32m━━━━━━━━━━━━━━━━━━━━\u001b[0m\u001b[37m\u001b[0m \u001b[1m0s\u001b[0m 4ms/step - loss: 2705.9668 - mse: 2705.9668 - val_loss: 2609.4536 - val_mse: 2609.4536\n",
      "Epoch 233/300\n",
      "\u001b[1m24/24\u001b[0m \u001b[32m━━━━━━━━━━━━━━━━━━━━\u001b[0m\u001b[37m\u001b[0m \u001b[1m0s\u001b[0m 5ms/step - loss: 2393.7224 - mse: 2393.7224 - val_loss: 2606.9248 - val_mse: 2606.9246\n",
      "Epoch 234/300\n",
      "\u001b[1m24/24\u001b[0m \u001b[32m━━━━━━━━━━━━━━━━━━━━\u001b[0m\u001b[37m\u001b[0m \u001b[1m0s\u001b[0m 3ms/step - loss: 2964.9978 - mse: 2964.9978 - val_loss: 2616.1191 - val_mse: 2616.1191\n",
      "Epoch 235/300\n",
      "\u001b[1m24/24\u001b[0m \u001b[32m━━━━━━━━━━━━━━━━━━━━\u001b[0m\u001b[37m\u001b[0m \u001b[1m0s\u001b[0m 4ms/step - loss: 2982.1001 - mse: 2982.1001 - val_loss: 2620.1570 - val_mse: 2620.1570\n",
      "Epoch 236/300\n",
      "\u001b[1m24/24\u001b[0m \u001b[32m━━━━━━━━━━━━━━━━━━━━\u001b[0m\u001b[37m\u001b[0m \u001b[1m0s\u001b[0m 4ms/step - loss: 3107.8872 - mse: 3107.8872 - val_loss: 2623.9968 - val_mse: 2623.9968\n",
      "Epoch 237/300\n",
      "\u001b[1m24/24\u001b[0m \u001b[32m━━━━━━━━━━━━━━━━━━━━\u001b[0m\u001b[37m\u001b[0m \u001b[1m0s\u001b[0m 7ms/step - loss: 2526.5913 - mse: 2526.5916 - val_loss: 2620.8972 - val_mse: 2620.8972\n",
      "Epoch 238/300\n",
      "\u001b[1m24/24\u001b[0m \u001b[32m━━━━━━━━━━━━━━━━━━━━\u001b[0m\u001b[37m\u001b[0m \u001b[1m0s\u001b[0m 4ms/step - loss: 2511.0378 - mse: 2511.0378 - val_loss: 2621.1450 - val_mse: 2621.1450\n",
      "Epoch 239/300\n",
      "\u001b[1m24/24\u001b[0m \u001b[32m━━━━━━━━━━━━━━━━━━━━\u001b[0m\u001b[37m\u001b[0m \u001b[1m0s\u001b[0m 4ms/step - loss: 2787.5078 - mse: 2787.5078 - val_loss: 2621.4736 - val_mse: 2621.4736\n",
      "Epoch 240/300\n",
      "\u001b[1m24/24\u001b[0m \u001b[32m━━━━━━━━━━━━━━━━━━━━\u001b[0m\u001b[37m\u001b[0m \u001b[1m0s\u001b[0m 5ms/step - loss: 2654.7754 - mse: 2654.7754 - val_loss: 2616.9004 - val_mse: 2616.9004\n",
      "Epoch 241/300\n",
      "\u001b[1m24/24\u001b[0m \u001b[32m━━━━━━━━━━━━━━━━━━━━\u001b[0m\u001b[37m\u001b[0m \u001b[1m0s\u001b[0m 6ms/step - loss: 2774.0955 - mse: 2774.0952 - val_loss: 2614.5955 - val_mse: 2614.5955\n",
      "Epoch 242/300\n",
      "\u001b[1m24/24\u001b[0m \u001b[32m━━━━━━━━━━━━━━━━━━━━\u001b[0m\u001b[37m\u001b[0m \u001b[1m0s\u001b[0m 4ms/step - loss: 3111.9126 - mse: 3111.9126 - val_loss: 2615.4282 - val_mse: 2615.4282\n",
      "Epoch 243/300\n",
      "\u001b[1m24/24\u001b[0m \u001b[32m━━━━━━━━━━━━━━━━━━━━\u001b[0m\u001b[37m\u001b[0m \u001b[1m0s\u001b[0m 4ms/step - loss: 2997.3628 - mse: 2997.3628 - val_loss: 2613.6003 - val_mse: 2613.6003\n",
      "Epoch 244/300\n",
      "\u001b[1m24/24\u001b[0m \u001b[32m━━━━━━━━━━━━━━━━━━━━\u001b[0m\u001b[37m\u001b[0m \u001b[1m0s\u001b[0m 3ms/step - loss: 2708.9858 - mse: 2708.9858 - val_loss: 2617.5383 - val_mse: 2617.5383\n",
      "Epoch 245/300\n",
      "\u001b[1m24/24\u001b[0m \u001b[32m━━━━━━━━━━━━━━━━━━━━\u001b[0m\u001b[37m\u001b[0m \u001b[1m0s\u001b[0m 5ms/step - loss: 2831.3230 - mse: 2831.3230 - val_loss: 2621.7126 - val_mse: 2621.7126\n",
      "Epoch 246/300\n",
      "\u001b[1m24/24\u001b[0m \u001b[32m━━━━━━━━━━━━━━━━━━━━\u001b[0m\u001b[37m\u001b[0m \u001b[1m0s\u001b[0m 4ms/step - loss: 2569.3604 - mse: 2569.3604 - val_loss: 2618.4905 - val_mse: 2618.4905\n",
      "Epoch 247/300\n",
      "\u001b[1m24/24\u001b[0m \u001b[32m━━━━━━━━━━━━━━━━━━━━\u001b[0m\u001b[37m\u001b[0m \u001b[1m0s\u001b[0m 4ms/step - loss: 2637.1631 - mse: 2637.1631 - val_loss: 2616.9932 - val_mse: 2616.9932\n",
      "Epoch 248/300\n",
      "\u001b[1m24/24\u001b[0m \u001b[32m━━━━━━━━━━━━━━━━━━━━\u001b[0m\u001b[37m\u001b[0m \u001b[1m0s\u001b[0m 4ms/step - loss: 2537.8032 - mse: 2537.8030 - val_loss: 2616.1938 - val_mse: 2616.1938\n",
      "Epoch 249/300\n",
      "\u001b[1m24/24\u001b[0m \u001b[32m━━━━━━━━━━━━━━━━━━━━\u001b[0m\u001b[37m\u001b[0m \u001b[1m0s\u001b[0m 6ms/step - loss: 3098.6768 - mse: 3098.6768 - val_loss: 2614.5564 - val_mse: 2614.5564\n",
      "Epoch 250/300\n",
      "\u001b[1m24/24\u001b[0m \u001b[32m━━━━━━━━━━━━━━━━━━━━\u001b[0m\u001b[37m\u001b[0m \u001b[1m0s\u001b[0m 4ms/step - loss: 2653.2603 - mse: 2653.2603 - val_loss: 2618.2520 - val_mse: 2618.2520\n",
      "Epoch 251/300\n",
      "\u001b[1m24/24\u001b[0m \u001b[32m━━━━━━━━━━━━━━━━━━━━\u001b[0m\u001b[37m\u001b[0m \u001b[1m0s\u001b[0m 4ms/step - loss: 2793.2646 - mse: 2793.2646 - val_loss: 2616.1047 - val_mse: 2616.1047\n",
      "Epoch 252/300\n",
      "\u001b[1m24/24\u001b[0m \u001b[32m━━━━━━━━━━━━━━━━━━━━\u001b[0m\u001b[37m\u001b[0m \u001b[1m0s\u001b[0m 4ms/step - loss: 2933.2373 - mse: 2933.2373 - val_loss: 2614.5889 - val_mse: 2614.5889\n",
      "Epoch 253/300\n",
      "\u001b[1m24/24\u001b[0m \u001b[32m━━━━━━━━━━━━━━━━━━━━\u001b[0m\u001b[37m\u001b[0m \u001b[1m0s\u001b[0m 5ms/step - loss: 2497.8064 - mse: 2497.8064 - val_loss: 2622.3386 - val_mse: 2622.3391\n",
      "Epoch 254/300\n",
      "\u001b[1m24/24\u001b[0m \u001b[32m━━━━━━━━━━━━━━━━━━━━\u001b[0m\u001b[37m\u001b[0m \u001b[1m0s\u001b[0m 4ms/step - loss: 2793.8457 - mse: 2793.8455 - val_loss: 2621.2661 - val_mse: 2621.2661\n",
      "Epoch 255/300\n",
      "\u001b[1m24/24\u001b[0m \u001b[32m━━━━━━━━━━━━━━━━━━━━\u001b[0m\u001b[37m\u001b[0m \u001b[1m0s\u001b[0m 3ms/step - loss: 2730.1860 - mse: 2730.1860 - val_loss: 2614.1936 - val_mse: 2614.1936\n",
      "Epoch 256/300\n",
      "\u001b[1m24/24\u001b[0m \u001b[32m━━━━━━━━━━━━━━━━━━━━\u001b[0m\u001b[37m\u001b[0m \u001b[1m0s\u001b[0m 4ms/step - loss: 2567.9963 - mse: 2567.9963 - val_loss: 2617.8694 - val_mse: 2617.8694\n",
      "Epoch 257/300\n",
      "\u001b[1m24/24\u001b[0m \u001b[32m━━━━━━━━━━━━━━━━━━━━\u001b[0m\u001b[37m\u001b[0m \u001b[1m0s\u001b[0m 5ms/step - loss: 2596.6926 - mse: 2596.6926 - val_loss: 2616.4558 - val_mse: 2616.4558\n",
      "Epoch 258/300\n",
      "\u001b[1m24/24\u001b[0m \u001b[32m━━━━━━━━━━━━━━━━━━━━\u001b[0m\u001b[37m\u001b[0m \u001b[1m0s\u001b[0m 4ms/step - loss: 2701.7336 - mse: 2701.7336 - val_loss: 2615.8254 - val_mse: 2615.8254\n",
      "Epoch 259/300\n",
      "\u001b[1m24/24\u001b[0m \u001b[32m━━━━━━━━━━━━━━━━━━━━\u001b[0m\u001b[37m\u001b[0m \u001b[1m0s\u001b[0m 4ms/step - loss: 2900.1990 - mse: 2900.1990 - val_loss: 2616.4648 - val_mse: 2616.4648\n",
      "Epoch 260/300\n",
      "\u001b[1m24/24\u001b[0m \u001b[32m━━━━━━━━━━━━━━━━━━━━\u001b[0m\u001b[37m\u001b[0m \u001b[1m0s\u001b[0m 4ms/step - loss: 2837.0251 - mse: 2837.0251 - val_loss: 2617.3391 - val_mse: 2617.3391\n",
      "Epoch 261/300\n",
      "\u001b[1m24/24\u001b[0m \u001b[32m━━━━━━━━━━━━━━━━━━━━\u001b[0m\u001b[37m\u001b[0m \u001b[1m0s\u001b[0m 4ms/step - loss: 2302.6094 - mse: 2302.6094 - val_loss: 2616.7100 - val_mse: 2616.7102\n",
      "Epoch 262/300\n",
      "\u001b[1m24/24\u001b[0m \u001b[32m━━━━━━━━━━━━━━━━━━━━\u001b[0m\u001b[37m\u001b[0m \u001b[1m0s\u001b[0m 4ms/step - loss: 2543.7126 - mse: 2543.7126 - val_loss: 2618.1848 - val_mse: 2618.1848\n",
      "Epoch 263/300\n",
      "\u001b[1m24/24\u001b[0m \u001b[32m━━━━━━━━━━━━━━━━━━━━\u001b[0m\u001b[37m\u001b[0m \u001b[1m0s\u001b[0m 3ms/step - loss: 2676.7026 - mse: 2676.7026 - val_loss: 2617.2041 - val_mse: 2617.2041\n",
      "Epoch 264/300\n",
      "\u001b[1m24/24\u001b[0m \u001b[32m━━━━━━━━━━━━━━━━━━━━\u001b[0m\u001b[37m\u001b[0m \u001b[1m0s\u001b[0m 4ms/step - loss: 2910.6865 - mse: 2910.6865 - val_loss: 2618.4678 - val_mse: 2618.4678\n",
      "Epoch 265/300\n",
      "\u001b[1m24/24\u001b[0m \u001b[32m━━━━━━━━━━━━━━━━━━━━\u001b[0m\u001b[37m\u001b[0m \u001b[1m0s\u001b[0m 4ms/step - loss: 2826.1792 - mse: 2826.1792 - val_loss: 2619.4011 - val_mse: 2619.4011\n",
      "Epoch 266/300\n",
      "\u001b[1m24/24\u001b[0m \u001b[32m━━━━━━━━━━━━━━━━━━━━\u001b[0m\u001b[37m\u001b[0m \u001b[1m0s\u001b[0m 4ms/step - loss: 2535.2842 - mse: 2535.2842 - val_loss: 2622.8972 - val_mse: 2622.8972\n",
      "Epoch 267/300\n",
      "\u001b[1m24/24\u001b[0m \u001b[32m━━━━━━━━━━━━━━━━━━━━\u001b[0m\u001b[37m\u001b[0m \u001b[1m0s\u001b[0m 4ms/step - loss: 2813.5698 - mse: 2813.5701 - val_loss: 2625.1926 - val_mse: 2625.1926\n",
      "Epoch 268/300\n",
      "\u001b[1m24/24\u001b[0m \u001b[32m━━━━━━━━━━━━━━━━━━━━\u001b[0m\u001b[37m\u001b[0m \u001b[1m0s\u001b[0m 4ms/step - loss: 2980.4800 - mse: 2980.4800 - val_loss: 2632.6028 - val_mse: 2632.6028\n",
      "Epoch 269/300\n",
      "\u001b[1m24/24\u001b[0m \u001b[32m━━━━━━━━━━━━━━━━━━━━\u001b[0m\u001b[37m\u001b[0m \u001b[1m0s\u001b[0m 3ms/step - loss: 2910.1294 - mse: 2910.1294 - val_loss: 2632.2734 - val_mse: 2632.2734\n",
      "Epoch 270/300\n",
      "\u001b[1m24/24\u001b[0m \u001b[32m━━━━━━━━━━━━━━━━━━━━\u001b[0m\u001b[37m\u001b[0m \u001b[1m0s\u001b[0m 3ms/step - loss: 2798.1641 - mse: 2798.1641 - val_loss: 2626.7168 - val_mse: 2626.7168\n",
      "Epoch 271/300\n",
      "\u001b[1m24/24\u001b[0m \u001b[32m━━━━━━━━━━━━━━━━━━━━\u001b[0m\u001b[37m\u001b[0m \u001b[1m0s\u001b[0m 3ms/step - loss: 2724.5659 - mse: 2724.5659 - val_loss: 2624.1672 - val_mse: 2624.1672\n",
      "Epoch 272/300\n",
      "\u001b[1m24/24\u001b[0m \u001b[32m━━━━━━━━━━━━━━━━━━━━\u001b[0m\u001b[37m\u001b[0m \u001b[1m0s\u001b[0m 4ms/step - loss: 2912.5361 - mse: 2912.5361 - val_loss: 2625.1699 - val_mse: 2625.1699\n",
      "Epoch 273/300\n",
      "\u001b[1m24/24\u001b[0m \u001b[32m━━━━━━━━━━━━━━━━━━━━\u001b[0m\u001b[37m\u001b[0m \u001b[1m0s\u001b[0m 3ms/step - loss: 2571.0164 - mse: 2571.0164 - val_loss: 2622.6980 - val_mse: 2622.6980\n",
      "Epoch 274/300\n",
      "\u001b[1m24/24\u001b[0m \u001b[32m━━━━━━━━━━━━━━━━━━━━\u001b[0m\u001b[37m\u001b[0m \u001b[1m0s\u001b[0m 4ms/step - loss: 2911.6218 - mse: 2911.6218 - val_loss: 2625.4070 - val_mse: 2625.4070\n",
      "Epoch 275/300\n",
      "\u001b[1m24/24\u001b[0m \u001b[32m━━━━━━━━━━━━━━━━━━━━\u001b[0m\u001b[37m\u001b[0m \u001b[1m0s\u001b[0m 4ms/step - loss: 2473.1108 - mse: 2473.1108 - val_loss: 2629.6477 - val_mse: 2629.6477\n",
      "Epoch 276/300\n",
      "\u001b[1m24/24\u001b[0m \u001b[32m━━━━━━━━━━━━━━━━━━━━\u001b[0m\u001b[37m\u001b[0m \u001b[1m0s\u001b[0m 4ms/step - loss: 2742.1113 - mse: 2742.1113 - val_loss: 2627.7979 - val_mse: 2627.7979\n",
      "Epoch 277/300\n",
      "\u001b[1m24/24\u001b[0m \u001b[32m━━━━━━━━━━━━━━━━━━━━\u001b[0m\u001b[37m\u001b[0m \u001b[1m0s\u001b[0m 4ms/step - loss: 2702.9014 - mse: 2702.9014 - val_loss: 2623.4275 - val_mse: 2623.4275\n",
      "Epoch 278/300\n",
      "\u001b[1m24/24\u001b[0m \u001b[32m━━━━━━━━━━━━━━━━━━━━\u001b[0m\u001b[37m\u001b[0m \u001b[1m0s\u001b[0m 5ms/step - loss: 2728.2515 - mse: 2728.2515 - val_loss: 2625.6831 - val_mse: 2625.6831\n",
      "Epoch 279/300\n",
      "\u001b[1m24/24\u001b[0m \u001b[32m━━━━━━━━━━━━━━━━━━━━\u001b[0m\u001b[37m\u001b[0m \u001b[1m0s\u001b[0m 5ms/step - loss: 2991.3198 - mse: 2991.3198 - val_loss: 2627.3953 - val_mse: 2627.3953\n",
      "Epoch 280/300\n",
      "\u001b[1m24/24\u001b[0m \u001b[32m━━━━━━━━━━━━━━━━━━━━\u001b[0m\u001b[37m\u001b[0m \u001b[1m0s\u001b[0m 4ms/step - loss: 2720.6143 - mse: 2720.6140 - val_loss: 2629.0652 - val_mse: 2629.0652\n",
      "Epoch 281/300\n",
      "\u001b[1m24/24\u001b[0m \u001b[32m━━━━━━━━━━━━━━━━━━━━\u001b[0m\u001b[37m\u001b[0m \u001b[1m0s\u001b[0m 4ms/step - loss: 2405.9790 - mse: 2405.9790 - val_loss: 2635.8889 - val_mse: 2635.8889\n",
      "Epoch 282/300\n",
      "\u001b[1m24/24\u001b[0m \u001b[32m━━━━━━━━━━━━━━━━━━━━\u001b[0m\u001b[37m\u001b[0m \u001b[1m0s\u001b[0m 3ms/step - loss: 2547.3992 - mse: 2547.3992 - val_loss: 2624.8628 - val_mse: 2624.8628\n",
      "Epoch 283/300\n",
      "\u001b[1m24/24\u001b[0m \u001b[32m━━━━━━━━━━━━━━━━━━━━\u001b[0m\u001b[37m\u001b[0m \u001b[1m0s\u001b[0m 4ms/step - loss: 2977.8240 - mse: 2977.8240 - val_loss: 2624.8298 - val_mse: 2624.8298\n",
      "Epoch 284/300\n",
      "\u001b[1m24/24\u001b[0m \u001b[32m━━━━━━━━━━━━━━━━━━━━\u001b[0m\u001b[37m\u001b[0m \u001b[1m0s\u001b[0m 6ms/step - loss: 3053.6736 - mse: 3053.6736 - val_loss: 2625.3188 - val_mse: 2625.3188\n",
      "Epoch 285/300\n",
      "\u001b[1m24/24\u001b[0m \u001b[32m━━━━━━━━━━━━━━━━━━━━\u001b[0m\u001b[37m\u001b[0m \u001b[1m0s\u001b[0m 3ms/step - loss: 2742.4709 - mse: 2742.4709 - val_loss: 2625.8359 - val_mse: 2625.8359\n",
      "Epoch 286/300\n",
      "\u001b[1m24/24\u001b[0m \u001b[32m━━━━━━━━━━━━━━━━━━━━\u001b[0m\u001b[37m\u001b[0m \u001b[1m0s\u001b[0m 4ms/step - loss: 3345.2334 - mse: 3345.2334 - val_loss: 2629.3586 - val_mse: 2629.3586\n",
      "Epoch 287/300\n",
      "\u001b[1m24/24\u001b[0m \u001b[32m━━━━━━━━━━━━━━━━━━━━\u001b[0m\u001b[37m\u001b[0m \u001b[1m0s\u001b[0m 3ms/step - loss: 2724.8816 - mse: 2724.8816 - val_loss: 2626.7864 - val_mse: 2626.7864\n",
      "Epoch 288/300\n",
      "\u001b[1m24/24\u001b[0m \u001b[32m━━━━━━━━━━━━━━━━━━━━\u001b[0m\u001b[37m\u001b[0m \u001b[1m0s\u001b[0m 6ms/step - loss: 3091.3770 - mse: 3091.3770 - val_loss: 2634.4866 - val_mse: 2634.4866\n",
      "Epoch 289/300\n",
      "\u001b[1m24/24\u001b[0m \u001b[32m━━━━━━━━━━━━━━━━━━━━\u001b[0m\u001b[37m\u001b[0m \u001b[1m0s\u001b[0m 4ms/step - loss: 2727.2852 - mse: 2727.2852 - val_loss: 2635.7827 - val_mse: 2635.7827\n",
      "Epoch 290/300\n",
      "\u001b[1m24/24\u001b[0m \u001b[32m━━━━━━━━━━━━━━━━━━━━\u001b[0m\u001b[37m\u001b[0m \u001b[1m0s\u001b[0m 4ms/step - loss: 2828.8784 - mse: 2828.8784 - val_loss: 2632.1848 - val_mse: 2632.1848\n",
      "Epoch 291/300\n",
      "\u001b[1m24/24\u001b[0m \u001b[32m━━━━━━━━━━━━━━━━━━━━\u001b[0m\u001b[37m\u001b[0m \u001b[1m0s\u001b[0m 4ms/step - loss: 2828.6484 - mse: 2828.6484 - val_loss: 2630.6409 - val_mse: 2630.6409\n",
      "Epoch 292/300\n",
      "\u001b[1m24/24\u001b[0m \u001b[32m━━━━━━━━━━━━━━━━━━━━\u001b[0m\u001b[37m\u001b[0m \u001b[1m0s\u001b[0m 4ms/step - loss: 2772.2468 - mse: 2772.2468 - val_loss: 2632.2214 - val_mse: 2632.2214\n",
      "Epoch 293/300\n",
      "\u001b[1m24/24\u001b[0m \u001b[32m━━━━━━━━━━━━━━━━━━━━\u001b[0m\u001b[37m\u001b[0m \u001b[1m0s\u001b[0m 4ms/step - loss: 2384.9956 - mse: 2384.9956 - val_loss: 2629.7148 - val_mse: 2629.7148\n",
      "Epoch 294/300\n",
      "\u001b[1m24/24\u001b[0m \u001b[32m━━━━━━━━━━━━━━━━━━━━\u001b[0m\u001b[37m\u001b[0m \u001b[1m0s\u001b[0m 4ms/step - loss: 2831.4199 - mse: 2831.4199 - val_loss: 2636.6997 - val_mse: 2636.6997\n",
      "Epoch 295/300\n",
      "\u001b[1m24/24\u001b[0m \u001b[32m━━━━━━━━━━━━━━━━━━━━\u001b[0m\u001b[37m\u001b[0m \u001b[1m0s\u001b[0m 3ms/step - loss: 2584.4084 - mse: 2584.4084 - val_loss: 2632.8879 - val_mse: 2632.8879\n",
      "Epoch 296/300\n",
      "\u001b[1m24/24\u001b[0m \u001b[32m━━━━━━━━━━━━━━━━━━━━\u001b[0m\u001b[37m\u001b[0m \u001b[1m0s\u001b[0m 4ms/step - loss: 2952.2136 - mse: 2952.2136 - val_loss: 2626.7458 - val_mse: 2626.7458\n",
      "Epoch 297/300\n",
      "\u001b[1m24/24\u001b[0m \u001b[32m━━━━━━━━━━━━━━━━━━━━\u001b[0m\u001b[37m\u001b[0m \u001b[1m0s\u001b[0m 5ms/step - loss: 2475.8352 - mse: 2475.8352 - val_loss: 2627.4036 - val_mse: 2627.4036\n",
      "Epoch 298/300\n",
      "\u001b[1m24/24\u001b[0m \u001b[32m━━━━━━━━━━━━━━━━━━━━\u001b[0m\u001b[37m\u001b[0m \u001b[1m0s\u001b[0m 3ms/step - loss: 2909.7090 - mse: 2909.7090 - val_loss: 2625.6130 - val_mse: 2625.6130\n",
      "Epoch 299/300\n",
      "\u001b[1m24/24\u001b[0m \u001b[32m━━━━━━━━━━━━━━━━━━━━\u001b[0m\u001b[37m\u001b[0m \u001b[1m0s\u001b[0m 4ms/step - loss: 3048.6357 - mse: 3048.6357 - val_loss: 2625.5442 - val_mse: 2625.5442\n",
      "Epoch 300/300\n",
      "\u001b[1m24/24\u001b[0m \u001b[32m━━━━━━━━━━━━━━━━━━━━\u001b[0m\u001b[37m\u001b[0m \u001b[1m0s\u001b[0m 4ms/step - loss: 2958.8479 - mse: 2958.8479 - val_loss: 2628.6912 - val_mse: 2628.6912\n",
      "CPU times: total: 1min 5s\n",
      "Wall time: 55.6 s\n"
     ]
    }
   ],
   "source": [
    "%%time\n",
    "# Fit the model\n",
    "history = model.fit(\n",
    "    X_train2,\n",
    "    y_train2,\n",
    "    validation_split = 0.25,\n",
    "    batch_size = 10,\n",
    "    epochs = 300,\n",
    "    verbose = 1)"
   ]
  },
  {
   "cell_type": "markdown",
   "metadata": {
    "id": "pbUOslHB04xp"
   },
   "source": [
    "### Create predictions"
   ]
  },
  {
   "cell_type": "code",
   "execution_count": 15,
   "metadata": {
    "colab": {
     "base_uri": "https://localhost:8080/"
    },
    "executionInfo": {
     "elapsed": 40,
     "status": "ok",
     "timestamp": 1678497229678,
     "user": {
      "displayName": "Muru Raj",
      "userId": "16263509272652930332"
     },
     "user_tz": -780
    },
    "id": "DnYp-ZzG04xp",
    "outputId": "faa46458-0a37-4b3d-bc14-ccefd99edd2a"
   },
   "outputs": [
    {
     "name": "stdout",
     "output_type": "stream",
     "text": [
      "\u001b[1m5/5\u001b[0m \u001b[32m━━━━━━━━━━━━━━━━━━━━\u001b[0m\u001b[37m\u001b[0m \u001b[1m0s\u001b[0m 23ms/step\n"
     ]
    }
   ],
   "source": [
    "predictions = model.predict(X_test)"
   ]
  },
  {
   "cell_type": "code",
   "execution_count": 16,
   "metadata": {
    "colab": {
     "base_uri": "https://localhost:8080/"
    },
    "executionInfo": {
     "elapsed": 5,
     "status": "ok",
     "timestamp": 1678497251835,
     "user": {
      "displayName": "Muru Raj",
      "userId": "16263509272652930332"
     },
     "user_tz": -780
    },
    "id": "s4nDfFrbO202",
    "outputId": "8b4912fe-fded-4dde-924f-31c5d662062e"
   },
   "outputs": [
    {
     "data": {
      "text/plain": [
       "array([[177.52724 ],\n",
       "       [190.72972 ],\n",
       "       [168.83282 ],\n",
       "       [235.27657 ],\n",
       "       [190.44328 ],\n",
       "       [265.82504 ],\n",
       "       [155.25854 ],\n",
       "       [ 66.218475],\n",
       "       [150.2533  ],\n",
       "       [171.70073 ],\n",
       "       [219.60846 ],\n",
       "       [195.61716 ],\n",
       "       [ 94.47559 ],\n",
       "       [226.76416 ],\n",
       "       [ 92.53423 ],\n",
       "       [222.08733 ],\n",
       "       [ 81.13485 ],\n",
       "       [124.674545],\n",
       "       [134.50853 ],\n",
       "       [155.90854 ],\n",
       "       [ 80.550285],\n",
       "       [ 78.82689 ],\n",
       "       [192.36983 ],\n",
       "       [122.57    ],\n",
       "       [229.67287 ],\n",
       "       [187.84283 ],\n",
       "       [118.96318 ],\n",
       "       [ 93.227776],\n",
       "       [181.88403 ],\n",
       "       [229.19989 ],\n",
       "       [228.8311  ],\n",
       "       [232.00589 ],\n",
       "       [162.15688 ],\n",
       "       [120.06552 ],\n",
       "       [126.499596],\n",
       "       [158.76607 ],\n",
       "       [107.23675 ],\n",
       "       [230.64993 ],\n",
       "       [205.89876 ],\n",
       "       [126.01913 ],\n",
       "       [ 99.99422 ],\n",
       "       [121.633354],\n",
       "       [186.49551 ],\n",
       "       [229.80002 ],\n",
       "       [142.17497 ],\n",
       "       [262.5611  ],\n",
       "       [155.36665 ],\n",
       "       [198.13585 ],\n",
       "       [164.17625 ],\n",
       "       [143.77559 ],\n",
       "       [136.23296 ],\n",
       "       [210.70953 ],\n",
       "       [170.64908 ],\n",
       "       [150.50856 ],\n",
       "       [200.62375 ],\n",
       "       [ 70.6031  ],\n",
       "       [169.0407  ],\n",
       "       [113.91084 ],\n",
       "       [163.11607 ],\n",
       "       [ 81.13764 ],\n",
       "       [146.16782 ],\n",
       "       [146.66772 ],\n",
       "       [201.25566 ],\n",
       "       [244.06381 ],\n",
       "       [180.28201 ],\n",
       "       [167.33691 ],\n",
       "       [112.19671 ],\n",
       "       [200.8344  ],\n",
       "       [212.32788 ],\n",
       "       [101.73751 ],\n",
       "       [175.07784 ],\n",
       "       [170.66068 ],\n",
       "       [ 85.662315],\n",
       "       [ 78.16935 ],\n",
       "       [ 62.158367],\n",
       "       [134.9791  ],\n",
       "       [243.18768 ],\n",
       "       [ 75.48722 ],\n",
       "       [248.59604 ],\n",
       "       [116.49262 ],\n",
       "       [169.79492 ],\n",
       "       [196.05777 ],\n",
       "       [129.73625 ],\n",
       "       [ 74.20334 ],\n",
       "       [177.44672 ],\n",
       "       [209.45396 ],\n",
       "       [ 91.85508 ],\n",
       "       [178.4296  ],\n",
       "       [222.1307  ],\n",
       "       [181.00511 ],\n",
       "       [ 83.108215],\n",
       "       [173.27591 ],\n",
       "       [212.44638 ],\n",
       "       [128.24895 ],\n",
       "       [233.15715 ],\n",
       "       [ 71.32743 ],\n",
       "       [145.83235 ],\n",
       "       [157.38092 ],\n",
       "       [ 86.15604 ],\n",
       "       [176.97461 ],\n",
       "       [180.53902 ],\n",
       "       [124.50018 ],\n",
       "       [141.84616 ],\n",
       "       [193.3204  ],\n",
       "       [171.54025 ],\n",
       "       [ 85.7567  ],\n",
       "       [157.95364 ],\n",
       "       [264.82364 ],\n",
       "       [ 77.08849 ],\n",
       "       [215.74503 ],\n",
       "       [187.04807 ],\n",
       "       [179.46907 ],\n",
       "       [301.22156 ],\n",
       "       [108.617966],\n",
       "       [289.6473  ],\n",
       "       [123.9945  ],\n",
       "       [ 78.05597 ],\n",
       "       [252.15721 ],\n",
       "       [161.72992 ],\n",
       "       [125.29903 ],\n",
       "       [262.87802 ],\n",
       "       [119.00405 ],\n",
       "       [192.49808 ],\n",
       "       [148.73048 ],\n",
       "       [114.01977 ],\n",
       "       [237.10577 ],\n",
       "       [164.18286 ],\n",
       "       [113.32509 ],\n",
       "       [143.52878 ],\n",
       "       [ 62.674892],\n",
       "       [124.33958 ],\n",
       "       [159.95992 ],\n",
       "       [260.515   ]], dtype=float32)"
      ]
     },
     "execution_count": 16,
     "metadata": {},
     "output_type": "execute_result"
    }
   ],
   "source": [
    "predictions"
   ]
  },
  {
   "cell_type": "markdown",
   "metadata": {
    "id": "jeCZ_bYy04xr"
   },
   "source": [
    "### Evaluate the model"
   ]
  },
  {
   "cell_type": "code",
   "execution_count": 17,
   "metadata": {
    "colab": {
     "base_uri": "https://localhost:8080/"
    },
    "executionInfo": {
     "elapsed": 27,
     "status": "ok",
     "timestamp": 1678497229678,
     "user": {
      "displayName": "Muru Raj",
      "userId": "16263509272652930332"
     },
     "user_tz": -780
    },
    "id": "qHRqms0v04xs",
    "outputId": "4f0cdacb-52d4-4603-d692-9cb58f64b7d1"
   },
   "outputs": [
    {
     "name": "stdout",
     "output_type": "stream",
     "text": [
      "\u001b[1m5/5\u001b[0m \u001b[32m━━━━━━━━━━━━━━━━━━━━\u001b[0m\u001b[37m\u001b[0m \u001b[1m0s\u001b[0m 2ms/step - loss: 3363.8755 - mse: 3363.8755 \n",
      "\n",
      "Test loss: 3281.513672\n"
     ]
    }
   ],
   "source": [
    "# Calculate test MSE\n",
    "score = model.evaluate(X_test, y_test)\n",
    "print('\\nTest loss: %.6f' % score[0])"
   ]
  },
  {
   "cell_type": "code",
   "execution_count": 18,
   "metadata": {
    "colab": {
     "base_uri": "https://localhost:8080/"
    },
    "executionInfo": {
     "elapsed": 24,
     "status": "ok",
     "timestamp": 1678497229679,
     "user": {
      "displayName": "Muru Raj",
      "userId": "16263509272652930332"
     },
     "user_tz": -780
    },
    "id": "nSWFaA4b9x2g",
    "outputId": "707e0f59-ea37-42fc-f937-43c07f7addc5"
   },
   "outputs": [
    {
     "data": {
      "text/plain": [
       "[3281.513671875, 3281.513671875]"
      ]
     },
     "execution_count": 18,
     "metadata": {},
     "output_type": "execute_result"
    }
   ],
   "source": [
    "score"
   ]
  },
  {
   "cell_type": "code",
   "execution_count": 19,
   "metadata": {
    "colab": {
     "base_uri": "https://localhost:8080/"
    },
    "executionInfo": {
     "elapsed": 990,
     "status": "ok",
     "timestamp": 1678497230647,
     "user": {
      "displayName": "Muru Raj",
      "userId": "16263509272652930332"
     },
     "user_tz": -780
    },
    "id": "oG8-43tP2qiF",
    "outputId": "4bc4c994-4eb7-4b83-ad63-5b90d3699bca"
   },
   "outputs": [
    {
     "data": {
      "text/plain": [
       "57.28449765752511"
      ]
     },
     "execution_count": 19,
     "metadata": {},
     "output_type": "execute_result"
    }
   ],
   "source": [
    "# Find RMSE\n",
    "score[0] ** (1/2)"
   ]
  },
  {
   "cell_type": "code",
   "execution_count": 20,
   "metadata": {
    "colab": {
     "base_uri": "https://localhost:8080/"
    },
    "executionInfo": {
     "elapsed": 34,
     "status": "ok",
     "timestamp": 1678497230647,
     "user": {
      "displayName": "Muru Raj",
      "userId": "16263509272652930332"
     },
     "user_tz": -780
    },
    "id": "r9l21F3j98qK",
    "outputId": "ab32c411-4bdf-49ff-d6d2-4528e6c49bb9"
   },
   "outputs": [
    {
     "data": {
      "text/plain": [
       "152.13348416289594"
      ]
     },
     "execution_count": 20,
     "metadata": {},
     "output_type": "execute_result"
    }
   ],
   "source": [
    "y.mean()"
   ]
  },
  {
   "cell_type": "code",
   "execution_count": 21,
   "metadata": {
    "colab": {
     "base_uri": "https://localhost:8080/"
    },
    "executionInfo": {
     "elapsed": 32,
     "status": "ok",
     "timestamp": 1678497230648,
     "user": {
      "displayName": "Muru Raj",
      "userId": "16263509272652930332"
     },
     "user_tz": -780
    },
    "id": "lc4hzs9WAV7E",
    "outputId": "de7ee149-0a83-4d57-e3d6-33503e8a5bbc"
   },
   "outputs": [
    {
     "data": {
      "text/plain": [
       "77.00574586945044"
      ]
     },
     "execution_count": 21,
     "metadata": {},
     "output_type": "execute_result"
    }
   ],
   "source": [
    "y.std()"
   ]
  },
  {
   "cell_type": "code",
   "execution_count": 22,
   "metadata": {
    "colab": {
     "base_uri": "https://localhost:8080/"
    },
    "executionInfo": {
     "elapsed": 30,
     "status": "ok",
     "timestamp": 1678497230648,
     "user": {
      "displayName": "Muru Raj",
      "userId": "16263509272652930332"
     },
     "user_tz": -780
    },
    "id": "DJ9Vq5Xe-DHe",
    "outputId": "67b10213-9a20-4f84-e913-f270047f0246"
   },
   "outputs": [
    {
     "data": {
      "text/plain": [
       "25.0"
      ]
     },
     "execution_count": 22,
     "metadata": {},
     "output_type": "execute_result"
    }
   ],
   "source": [
    "y.min()"
   ]
  },
  {
   "cell_type": "code",
   "execution_count": 23,
   "metadata": {
    "colab": {
     "base_uri": "https://localhost:8080/"
    },
    "executionInfo": {
     "elapsed": 28,
     "status": "ok",
     "timestamp": 1678497230648,
     "user": {
      "displayName": "Muru Raj",
      "userId": "16263509272652930332"
     },
     "user_tz": -780
    },
    "id": "A-jgJBj7-E4m",
    "outputId": "a63480be-d8ae-41d0-84c9-778fb3026569"
   },
   "outputs": [
    {
     "data": {
      "text/plain": [
       "346.0"
      ]
     },
     "execution_count": 23,
     "metadata": {},
     "output_type": "execute_result"
    }
   ],
   "source": [
    "y.max()"
   ]
  },
  {
   "cell_type": "markdown",
   "metadata": {
    "id": "TQZ_SUYM04xx"
   },
   "source": [
    "### Visualization of cost"
   ]
  },
  {
   "cell_type": "code",
   "execution_count": 24,
   "metadata": {
    "colab": {
     "base_uri": "https://localhost:8080/",
     "height": 316
    },
    "executionInfo": {
     "elapsed": 19,
     "status": "ok",
     "timestamp": 1678497230649,
     "user": {
      "displayName": "Muru Raj",
      "userId": "16263509272652930332"
     },
     "user_tz": -780
    },
    "id": "sL46BZgW04xy",
    "outputId": "089a351b-784c-4437-e596-605c09b9100c",
    "scrolled": true
   },
   "outputs": [
    {
     "data": {
      "image/png": "[encoded data removed]",
      "text/plain": [
       "<Figure size 1800x600 with 2 Axes>"
      ]
     },
     "metadata": {},
     "output_type": "display_data"
    }
   ],
   "source": [
    "fig, ax = plt.subplots(1, 2, figsize = (18, 6))\n",
    "fig.subplots_adjust(left = 0.02, right = 0.98, wspace = 0.2)\n",
    "\n",
    "plt.rcParams.update({'font.size': 14})\n",
    "\n",
    "# Plot training & validation accuracy values\n",
    "ax[0].plot(history.history['mse'], label = 'Training')\n",
    "ax[0].plot(history.history['val_mse'], label = 'Validation')\n",
    "ax[0].set_title('Model MSE')\n",
    "ax[0].set_ylabel('MSE')\n",
    "ax[0].set_xlabel('Epoch')\n",
    "ax[0].legend()\n",
    "\n",
    "# Plot training & validation loss values\n",
    "ax[1].plot(history.history['loss'], label = 'Training')\n",
    "ax[1].plot(history.history['val_loss'], label = 'Validation')\n",
    "ax[1].set_title('Model loss')\n",
    "ax[1].set_ylabel('Loss')\n",
    "ax[1].set_xlabel('Epoch')\n",
    "ax[1].legend()\n",
    "\n",
    "plt.show()"
   ]
  },
  {
   "cell_type": "markdown",
   "metadata": {
    "id": "0eEMBdX804x1"
   },
   "source": [
    "### Visualization of residuals"
   ]
  },
  {
   "cell_type": "code",
   "execution_count": 25,
   "metadata": {
    "id": "Uo_8-XPt04x2"
   },
   "outputs": [],
   "source": [
    "# Calculate R2 and adjusted R2\n",
    "r2 = r2_score(y_test, predictions)\n",
    "n, p = X.shape # sample size, number of explanatory variables\n",
    "adjusted_r2 = 1 - (1 - r2) * ((n - 1) / (n - p - 1))"
   ]
  },
  {
   "cell_type": "code",
   "execution_count": 26,
   "metadata": {
    "colab": {
     "base_uri": "https://localhost:8080/",
     "height": 396
    },
    "executionInfo": {
     "elapsed": 790,
     "status": "ok",
     "timestamp": 1678497231428,
     "user": {
      "displayName": "Muru Raj",
      "userId": "16263509272652930332"
     },
     "user_tz": -780
    },
    "id": "DubonHZ-04x4",
    "outputId": "485192e4-d321-45a2-b0ba-b14e1f3dd4d6"
   },
   "outputs": [
    {
     "data": {
      "image/png": "[encoded data removed]",
      "text/plain": [
       "<Figure size 1500x600 with 1 Axes>"
      ]
     },
     "metadata": {},
     "output_type": "display_data"
    }
   ],
   "source": [
    "difference = predictions.flatten() - y_test\n",
    "d_mean = difference.mean()\n",
    "d_std = difference.std()\n",
    "n_pred = len(predictions)\n",
    "plt.figure(figsize = (15, 6))\n",
    "plt.scatter(range(n_pred), difference, s = 15)\n",
    "plt.hlines(d_mean + d_std, 0, n_pred, 'r', lw = 1, label = '$\\pm \\: std$')\n",
    "plt.hlines(d_mean, 0, n_pred, label = '$mean$')\n",
    "plt.hlines(d_mean - d_std, 0, n_pred, 'r', lw = 1)\n",
    "plt.xlabel('Prediction')\n",
    "plt.ylabel('$\\hat y - y$')\n",
    "plt.legend()\n",
    "plt.text(0, difference.max() * 0.95,\n",
    "         '$R^2: %.2f, \\: Adjusted \\: R^2: %.2f$' % (r2, adjusted_r2),\n",
    "         fontsize = 12)\n",
    "plt.show()"
   ]
  }
 ],
 "metadata": {
  "accelerator": "GPU",
  "colab": {
   "provenance": []
  },
  "kernelspec": {
   "display_name": "Python 3 (ipykernel)",
   "language": "python",
   "name": "python3"
  },
  "language_info": {
   "codemirror_mode": {
    "name": "ipython",
    "version": 3
   },
   "file_extension": ".py",
   "mimetype": "text/x-python",
   "name": "python",
   "nbconvert_exporter": "python",
   "pygments_lexer": "ipython3",
   "version": "3.11.8"
  }
 },
 "nbformat": 4,
 "nbformat_minor": 4
}
